{
 "cells": [
  {
   "cell_type": "markdown",
   "metadata": {},
   "source": [
    "# Data structures\n",
    "# Dictionaries"
   ]
  },
  {
   "cell_type": "code",
   "execution_count": 2,
   "metadata": {},
   "outputs": [
    {
     "name": "stdout",
     "output_type": "stream",
     "text": [
      "{'Name': 'Gitam', 'EmailId': 'Gitam@gmail.com', 'Address': 'Hyderabad'}\n"
     ]
    }
   ],
   "source": [
    "d1={\"Name\":\"Gitam\",\"EmailId\":\"Gitam@gmail.com\",\"Address\":\"Hyderabad\"}\n",
    "print(d1)"
   ]
  },
  {
   "cell_type": "code",
   "execution_count": 5,
   "metadata": {},
   "outputs": [
    {
     "data": {
      "text/plain": [
       "'Gitam'"
      ]
     },
     "execution_count": 5,
     "metadata": {},
     "output_type": "execute_result"
    }
   ],
   "source": [
    "d1[\"Name\"]# to acces specific key"
   ]
  },
  {
   "cell_type": "code",
   "execution_count": 6,
   "metadata": {},
   "outputs": [],
   "source": [
    "d1['EmailId']='Gitam-Python@gmail.com'#update the data"
   ]
  },
  {
   "cell_type": "code",
   "execution_count": 8,
   "metadata": {},
   "outputs": [
    {
     "ename": "KeyError",
     "evalue": "'EmailId'",
     "output_type": "error",
     "traceback": [
      "\u001b[1;31m---------------------------------------------------------------------------\u001b[0m",
      "\u001b[1;31mKeyError\u001b[0m                                  Traceback (most recent call last)",
      "\u001b[1;32m<ipython-input-8-0ed538815fb7>\u001b[0m in \u001b[0;36m<module>\u001b[1;34m\u001b[0m\n\u001b[1;32m----> 1\u001b[1;33m \u001b[1;32mdel\u001b[0m \u001b[0md1\u001b[0m\u001b[1;33m[\u001b[0m\u001b[1;34m'EmailId'\u001b[0m\u001b[1;33m]\u001b[0m\u001b[1;31m#to delete specific key value\u001b[0m\u001b[1;33m\u001b[0m\u001b[1;33m\u001b[0m\u001b[0m\n\u001b[0m",
      "\u001b[1;31mKeyError\u001b[0m: 'EmailId'"
     ]
    }
   ],
   "source": [
    "del d1['EmailId']#to delete specific key value"
   ]
  },
  {
   "cell_type": "code",
   "execution_count": 9,
   "metadata": {},
   "outputs": [
    {
     "data": {
      "text/plain": [
       "{'Name': 'Gitam', 'Address': 'Hyderabad'}"
      ]
     },
     "execution_count": 9,
     "metadata": {},
     "output_type": "execute_result"
    }
   ],
   "source": [
    "d1#del d1 will delete entire dict obj"
   ]
  },
  {
   "cell_type": "code",
   "execution_count": 11,
   "metadata": {},
   "outputs": [
    {
     "data": {
      "text/plain": [
       "dict_keys(['Name', 'Address'])"
      ]
     },
     "execution_count": 11,
     "metadata": {},
     "output_type": "execute_result"
    }
   ],
   "source": [
    "d1.keys()#returns the list keys"
   ]
  },
  {
   "cell_type": "code",
   "execution_count": 12,
   "metadata": {},
   "outputs": [
    {
     "data": {
      "text/plain": [
       "dict_values(['Gitam', 'Hyderabad'])"
      ]
     },
     "execution_count": 12,
     "metadata": {},
     "output_type": "execute_result"
    }
   ],
   "source": [
    "d1.values()#returns the value"
   ]
  },
  {
   "cell_type": "code",
   "execution_count": 13,
   "metadata": {},
   "outputs": [
    {
     "data": {
      "text/plain": [
       "dict_items([('Name', 'Gitam'), ('Address', 'Hyderabad')])"
      ]
     },
     "execution_count": 13,
     "metadata": {},
     "output_type": "execute_result"
    }
   ],
   "source": [
    "d1.items()#the lists of tuples of keys and values"
   ]
  },
  {
   "cell_type": "markdown",
   "metadata": {},
   "source": [
    "## Tuples\n",
    "-t1 parenthesis() li sqaure brackets[]\n",
    "-difference between list and tuples\n",
    "        -list are mutable - can be changed/modified\n",
    "        .used to access modify,adddelete data\n",
    "        -tuples are inmutable-cannot be changed\n",
    "        .used to acess data only"
   ]
  },
  {
   "cell_type": "code",
   "execution_count": 14,
   "metadata": {},
   "outputs": [
    {
     "data": {
      "text/plain": [
       "tuple"
      ]
     },
     "execution_count": 14,
     "metadata": {},
     "output_type": "execute_result"
    }
   ],
   "source": [
    "t1=(1,2,3,4,5,6)\n",
    "t1\n",
    "type(t1)"
   ]
  },
  {
   "cell_type": "markdown",
   "metadata": {},
   "source": [
    "### Contact application\n",
    "-Add contats\n",
    "-Search contacts\n",
    "-List all contacts\n",
    "  .name1:phone1\n",
    "  .name2:phone2\n",
    "-Modify the contacts\n",
    "-Remove the contacts\n",
    "-Import the contacts"
   ]
  },
  {
   "cell_type": "code",
   "execution_count": 18,
   "metadata": {},
   "outputs": [
    {
     "name": "stdout",
     "output_type": "stream",
     "text": [
      "contacts is details are added\n",
      "contacts is details are added\n",
      "contacts details are already exists\n"
     ]
    }
   ],
   "source": [
    "#Add contacts\n",
    "contacts={}\n",
    "def addcontact(name,phone):#creating the dict obj\n",
    "    if name not in contacts:\n",
    "        contacts[name]=phone\n",
    "        print(\"contacts is details are added\")\n",
    "    else:\n",
    "        print(\"contacts details are already exists\")\n",
    "    return\n",
    "addcontact('rao','9876543123')\n",
    "addcontact('anil','9898975436')\n",
    "addcontact('rao','9876543123')"
   ]
  },
  {
   "cell_type": "code",
   "execution_count": 19,
   "metadata": {},
   "outputs": [
    {
     "data": {
      "text/plain": [
       "{'rao': '9876543123', 'anil': '9898975436'}"
      ]
     },
     "execution_count": 19,
     "metadata": {},
     "output_type": "execute_result"
    }
   ],
   "source": [
    "contacts"
   ]
  },
  {
   "cell_type": "code",
   "execution_count": 36,
   "metadata": {},
   "outputs": [
    {
     "name": "stdout",
     "output_type": "stream",
     "text": [
      "rao  :  9876543123\n",
      "harry does not exists\n",
      "anil) does not exists\n"
     ]
    }
   ],
   "source": [
    "#search for contacts details\n",
    "def searchcontact(name):\n",
    "    if name in contacts:\n",
    "        print(name,\" : \",contacts[name])\n",
    "    else:\n",
    "        print(\"%s does not exists\" % name)\n",
    "    return\n",
    "searchcontact('rao')\n",
    "searchcontact('harry')\n",
    "searchcontact('anil)')"
   ]
  },
  {
   "cell_type": "code",
   "execution_count": 34,
   "metadata": {},
   "outputs": [
    {
     "name": "stdout",
     "output_type": "stream",
     "text": [
      "2 contact added successfully\n"
     ]
    }
   ],
   "source": [
    "#import some contacts\n",
    "#merge the contacts with existing\n",
    "def importcontacts(newcontacts):\n",
    "    contacts.update(newcontacts)\n",
    "    print(len(newcontacts.keys()),\"contact added successfully\")\n",
    "    return\n",
    "newcontacts={'dolly':68978657895,'akash':6789495678}\n",
    "importcontacts(newcontacts)"
   ]
  },
  {
   "cell_type": "code",
   "execution_count": 48,
   "metadata": {},
   "outputs": [
    {
     "name": "stdout",
     "output_type": "stream",
     "text": [
      "anil update successfully\n",
      "ajay not exists\n"
     ]
    }
   ],
   "source": [
    "#delete a contact\n",
    "def deletecontact(name,phone):\n",
    "    if name in contacts:\n",
    "        contacts[name]\n",
    "        print(name,\"update successfully\")\n",
    "    else:\n",
    "            print(name,\"not exists\")\n",
    "    return\n",
    "deletecontact('anil',9898875436)\n",
    "deletecontact('ajay',9886543678)"
   ]
  },
  {
   "cell_type": "code",
   "execution_count": 50,
   "metadata": {},
   "outputs": [
    {
     "data": {
      "text/plain": [
       "{'rao': '9876543123',\n",
       " 'anil': '9898975436',\n",
       " 'dolly': 68978657895,\n",
       " 'akash': 6789495678}"
      ]
     },
     "execution_count": 50,
     "metadata": {},
     "output_type": "execute_result"
    }
   ],
   "source": [
    "contacts"
   ]
  },
  {
   "cell_type": "markdown",
   "metadata": {},
   "source": [
    "# ASSIGNMENT"
   ]
  },
  {
   "cell_type": "code",
   "execution_count": 52,
   "metadata": {},
   "outputs": [
    {
     "name": "stdout",
     "output_type": "stream",
     "text": [
      "89 55 34 21 13 8 5 3 2 1 1 0 "
     ]
    }
   ],
   "source": [
    "def reverseFibonacci(n): \n",
    "   \n",
    "    a = [0] * n  \n",
    "  \n",
    "    # assigning first and second elements \n",
    "    a[0] = 0 \n",
    "    a[1] = 1 \n",
    "  \n",
    "    for i in range(2, n):   \n",
    "  \n",
    "        # storing sum in the \n",
    "        # preceding location \n",
    "        a[i] = a[i - 2] + a[i - 1]  \n",
    "       \n",
    "  \n",
    "    for i in range(n - 1, -1 , -1):   \n",
    "  \n",
    "        # printing array in \n",
    "        # reverse order \n",
    "        print(a[i],end=\" \")  \n",
    "       \n",
    "   \n",
    "  \n",
    "# Driver function \n",
    "n = 12 \n",
    "reverseFibonacci(n)"
   ]
  },
  {
   "cell_type": "code",
   "execution_count": 53,
   "metadata": {},
   "outputs": [
    {
     "name": "stdout",
     "output_type": "stream",
     "text": [
      "enter a string-HELLO\n",
      "enter target element-E\n"
     ]
    },
    {
     "data": {
      "text/plain": [
       "1"
      ]
     },
     "execution_count": 53,
     "metadata": {},
     "output_type": "execute_result"
    }
   ],
   "source": [
    "#*** Function to count the occurances of a character in a string\n",
    "def repeat(x,target):\n",
    "    c=0\n",
    "    for i in x:\n",
    "        if i==target:\n",
    "            c+=1\n",
    "    return c\n",
    "# (OR)\n",
    "#def repeat1(x,target):\n",
    "#    return x.count(target)\n",
    "n=str(input(\"enter a string-\"))\n",
    "m=str(input(\"enter target element-\"))\n",
    "repeat(n,m) "
   ]
  },
  {
   "cell_type": "code",
   "execution_count": 67,
   "metadata": {},
   "outputs": [
    {
     "name": "stdout",
     "output_type": "stream",
     "text": [
      "enter a number12\n",
      "89 55 34 21 13 8 5 3 2 1 1 0 "
     ]
    }
   ],
   "source": [
    "# 1.python program to print the fibonacci series in the reverse order\n",
    "def reverseFibonacci(n):\n",
    "    a = 0 \n",
    "    b = 1 \n",
    "    f = [a,b]\n",
    "    for i in range(2, n):   \n",
    "        c= a + b\n",
    "        f.append(c)\n",
    "        a = b\n",
    "        b = c\n",
    "    for i in range(n - 1, -1 , -1):   \n",
    "        print(f[i],end=\" \")\n",
    "n = int(input(\"enter a number\"))        \n",
    "reverseFibonacci(n) "
   ]
  },
  {
   "cell_type": "code",
   "execution_count": 68,
   "metadata": {},
   "outputs": [
    {
     "name": "stdout",
     "output_type": "stream",
     "text": [
      "enter the end of series81\n",
      "1 3 9 27 81 "
     ]
    }
   ],
   "source": [
    "# 2. Series Generations 1, 3, 9, 27, 81, ...\n",
    "a = int(input(\"enter the end of series\"))\n",
    "s = 1\n",
    "i = 1\n",
    "while(s <= a):\n",
    "    print(s,end=\" \")\n",
    "    s =s*3"
   ]
  },
  {
   "cell_type": "code",
   "execution_count": 69,
   "metadata": {},
   "outputs": [
    {
     "name": "stdout",
     "output_type": "stream",
     "text": [
      "enter the end of series64\n",
      "1 2 4 8 16 32 64 "
     ]
    }
   ],
   "source": [
    "# 3. Series Generations:-  1, 2, 4, 8, 16, 32, 64, 128, 256, ...\n",
    "n = int(input(\"enter the end of series\"))\n",
    "sum = 1\n",
    "i = 1\n",
    "while(sum <= n):\n",
    "    print(sum,end=\" \")\n",
    "    sum =sum * 2"
   ]
  },
  {
   "cell_type": "code",
   "execution_count": 70,
   "metadata": {},
   "outputs": [
    {
     "name": "stdout",
     "output_type": "stream",
     "text": [
      "enter the end of series92\n",
      "1 3 8 15 27 50 92 169 "
     ]
    }
   ],
   "source": [
    "# 4. Series Generations:-  1 3 8 15 27 50 92 169 311\n",
    "n = int(input(\"enter the end of series\"))\n",
    "s=0\n",
    "a=1\n",
    "b=3\n",
    "c=4\n",
    "print(a,b,end=\" \")\n",
    "while(s <= n):\n",
    "    s = a+b+c\n",
    "    print(s,end=\" \")\n",
    "    a = b\n",
    "    b = c\n",
    "    c = s"
   ]
  },
  {
   "cell_type": "code",
   "execution_count": 71,
   "metadata": {},
   "outputs": [
    {
     "name": "stdout",
     "output_type": "stream",
     "text": [
      "enter the end of series470\n",
      "2 15 41 80 132 197 275 366 470 587 "
     ]
    }
   ],
   "source": [
    "# 5. Series Generations:-  2 15 41 80 132 197 275 366 470 587\n",
    "n = int(input(\"enter the end of series\"))\n",
    "s=0\n",
    "a=2\n",
    "i=1\n",
    "b=0\n",
    "print(a,end=\" \")\n",
    "while(s <= n):\n",
    "    b =(13*i)\n",
    "    s = a + b\n",
    "    print(s,end=\" \")\n",
    "    a = s\n",
    "    i=i+1"
   ]
  },
  {
   "cell_type": "code",
   "execution_count": null,
   "metadata": {},
   "outputs": [
    {
     "name": "stdout",
     "output_type": "stream",
     "text": [
      "enter the end of series97\n",
      "1 9 17 "
     ]
    }
   ],
   "source": [
    "# 6. Series Generations:-  1,9,17, 33,49,73,97\n",
    "n = int(input(\"enter the end of series\"))\n",
    "s=0\n",
    "a=1\n",
    "i=1\n",
    "b=0\n",
    "d=1\n",
    "print(a,end=\" \")\n",
    "while(s <= n):\n",
    "    while(d <= 2):\n",
    "        b =(8*i)\n",
    "        s = a + b\n",
    "        print(s,end=\" \")\n",
    "        a = s\n",
    "        d = d+1\n",
    "    i = i + 2    "
   ]
  },
  {
   "cell_type": "code",
   "execution_count": 1,
   "metadata": {},
   "outputs": [
    {
     "name": "stdout",
     "output_type": "stream",
     "text": [
      "enter num5\n",
      "|*****\n"
     ]
    }
   ],
   "source": [
    "# 7 The program must accept an integer N the input. \n",
    "#The program must print the desired pattern as shown in the\n",
    "def pattern(n):\n",
    "    for i in range(len(n)):\n",
    "        n[i]=int(n[i])\n",
    "    for i in range(len(n)):\n",
    "        print(\"|\",end=\"\")\n",
    "        for j in range(n[i]):\n",
    "            print(\"*\",end=\"\")\n",
    "        print(\"\")\n",
    "    return\n",
    "x=input(\"enter num\")\n",
    "pattern(list(x))"
   ]
  },
  {
   "cell_type": "code",
   "execution_count": 2,
   "metadata": {},
   "outputs": [
    {
     "name": "stdout",
     "output_type": "stream",
     "text": [
      "enter a stringARRAY\n",
      "enter a charA\n",
      "RRY\n"
     ]
    }
   ],
   "source": [
    "#8. Your Program has to read one string as well as one character and \n",
    "#you need to remove the all the occurance of the character.\n",
    "\n",
    "#HebeonTech,e -- HbonTch\n",
    "def delete(n,target):\n",
    "    c=0\n",
    "    for i in range(len(n)):\n",
    "        if n[i]==target:\n",
    "            c+=1\n",
    "    print(n.replace(target,\"\",c))\n",
    "n=str(input(\"enter a string\"))\n",
    "target=str(input(\"enter a char\"))\n",
    "delete(n,target)"
   ]
  },
  {
   "cell_type": "code",
   "execution_count": 3,
   "metadata": {},
   "outputs": [
    {
     "name": "stdout",
     "output_type": "stream",
     "text": [
      "enter a string APPLE\n",
      "enter a string A\n"
     ]
    },
    {
     "data": {
      "text/plain": [
       "'APPLEA'"
      ]
     },
     "execution_count": 3,
     "metadata": {},
     "output_type": "execute_result"
    }
   ],
   "source": [
    "# 9. Your Program need to accept two strings and generate the output in merging of both strings.\n",
    "def comb(a,b):\n",
    "    c=a+b\n",
    "    return c \n",
    "a=str(input(\"enter a string \"))\n",
    "b=str(input(\"enter a string \"))\n",
    "comb(a,b)"
   ]
  },
  {
   "cell_type": "code",
   "execution_count": 4,
   "metadata": {},
   "outputs": [
    {
     "name": "stdout",
     "output_type": "stream",
     "text": [
      "enter a number12\n",
      "1 3 9 27 81 243 729 2187 6561 19683 59049 177147 "
     ]
    }
   ],
   "source": [
    "# 10. Series Generations:-  1, 3, 9, 27, 81, ...\n",
    "def square(n):\n",
    "    for i in range(n):\n",
    "        print(3**i,end=\" \")\n",
    "    return\n",
    "n=int(input(\"enter a number\"))\n",
    "square(n)"
   ]
  },
  {
   "cell_type": "code",
   "execution_count": 5,
   "metadata": {},
   "outputs": [
    {
     "name": "stdout",
     "output_type": "stream",
     "text": [
      "enter a number12\n",
      "1 2 4 8 16 32 64 128 256 512 1024 2048 "
     ]
    }
   ],
   "source": [
    "# 11. Series Generations:-  1, 2, 4, 8, 16, 32, 64, 128, 256, ...\n",
    "def square(n):\n",
    "    for i in range(n):\n",
    "        print(2**i,end=\" \")\n",
    "    return\n",
    "n=int(input(\"enter a number\"))\n",
    "square(n)"
   ]
  },
  {
   "cell_type": "code",
   "execution_count": 6,
   "metadata": {},
   "outputs": [
    {
     "name": "stdout",
     "output_type": "stream",
     "text": [
      "enter a number13\n",
      "1 3 4 8 15 27 50 92 169 311 572 1052 1935 "
     ]
    }
   ],
   "source": [
    "# 12. Series Generations:-  1 3 4 8 15 27 50 92 169 311\n",
    "def series(n):\n",
    "    a=1\n",
    "    b=3\n",
    "    c=a+b\n",
    "    print(a,b,c,end=\" \")\n",
    "    for i in range (4,n+1):\n",
    "        d=a+b+c\n",
    "        a=b\n",
    "        b=c\n",
    "        c=d\n",
    "        print(d,end=\" \")\n",
    "    return\n",
    "n=int(input(\"enter a number\"))\n",
    "series(n)"
   ]
  },
  {
   "cell_type": "code",
   "execution_count": 7,
   "metadata": {},
   "outputs": [
    {
     "name": "stdout",
     "output_type": "stream",
     "text": [
      "enter a number3\n",
      "2 15 41 80 "
     ]
    }
   ],
   "source": [
    "# 13. Series Generations:-  2 15 41 80 132 197 275 366 470 587\n",
    "def series(n):\n",
    "    a=2\n",
    "    print(a,end=\" \")\n",
    "    for i in range (1,n+1):\n",
    "        b=a+(13*i)\n",
    "        print(b,end=\" \")\n",
    "        a=b\n",
    "    return\n",
    "n=int(input(\"enter a number\"))\n",
    "series(n)"
   ]
  },
  {
   "cell_type": "code",
   "execution_count": 8,
   "metadata": {},
   "outputs": [
    {
     "name": "stdout",
     "output_type": "stream",
     "text": [
      "enter n45\n"
     ]
    },
    {
     "data": {
      "text/plain": [
       "122342346998826717539665299944651784048588130840420940313"
      ]
     },
     "execution_count": 8,
     "metadata": {},
     "output_type": "execute_result"
    }
   ],
   "source": [
    "# 14. Series Generations:-  1! + 2! + 3! + 4! + 5! + ... + n!\n",
    "def fact(a):\n",
    "    f=1\n",
    "    for i in range (1,a+1):\n",
    "        f*=i\n",
    "    return f   \n",
    "def series(m):\n",
    "    s=0\n",
    "    for x in range (1,n+1):\n",
    "        s=s+fact(x)\n",
    "    return s\n",
    "n=int(input(\"enter n\"))\n",
    "series(n)\n"
   ]
  },
  {
   "cell_type": "code",
   "execution_count": null,
   "metadata": {},
   "outputs": [],
   "source": []
  },
  {
   "cell_type": "markdown",
   "metadata": {},
   "source": [
    "### STRING FUNCTION\n",
    "\n",
    "-upper()--will converts the given string into upper case\n",
    "-lower()--will converts the given the string into lower case"
   ]
  },
  {
   "cell_type": "code",
   "execution_count": 56,
   "metadata": {},
   "outputs": [
    {
     "name": "stdout",
     "output_type": "stream",
     "text": [
      "GITAM\n",
      "gitam\n"
     ]
    }
   ],
   "source": [
    "s1='gitam'\n",
    "print(s1.upper())\n",
    "print(s1.lower())"
   ]
  },
  {
   "cell_type": "markdown",
   "metadata": {},
   "source": [
    "### Boolean function(True or False)\n",
    ".islower()--true if the tring is lower case/False if the string not in lower case\n",
    ".isupper()--True if the string inupper case/False if the string not in upper case\n",
    ".istitle--True if the string follows title case/False\n",
    ".isnumeric--True if string contains only numbers\n",
    ".isspace--True if string has spaces"
   ]
  },
  {
   "cell_type": "code",
   "execution_count": 57,
   "metadata": {},
   "outputs": [
    {
     "name": "stdout",
     "output_type": "stream",
     "text": [
      "False\n",
      "True\n"
     ]
    }
   ],
   "source": [
    "s1='GITAM'\n",
    "print(s1.islower())\n",
    "print(s1.isupper())"
   ]
  },
  {
   "cell_type": "code",
   "execution_count": 58,
   "metadata": {},
   "outputs": [
    {
     "name": "stdout",
     "output_type": "stream",
     "text": [
      "False\n",
      "True\n"
     ]
    }
   ],
   "source": [
    "s2=\"python programming\"\n",
    "s3=\"Python Programming\"\n",
    "print(s2.istitle())\n",
    "print(s3.istitle())"
   ]
  },
  {
   "cell_type": "code",
   "execution_count": 59,
   "metadata": {},
   "outputs": [
    {
     "name": "stdout",
     "output_type": "stream",
     "text": [
      "False\n",
      "True\n"
     ]
    }
   ],
   "source": [
    "s2=\"Application1234\"\n",
    "s3='PythonProgramming'\n",
    "print(s2.isalpha())\n",
    "print(s3.isalpha())"
   ]
  },
  {
   "cell_type": "code",
   "execution_count": 60,
   "metadata": {},
   "outputs": [
    {
     "name": "stdout",
     "output_type": "stream",
     "text": [
      "True\n",
      "False\n"
     ]
    }
   ],
   "source": [
    "s2=\"1234\"\n",
    "s3='PythonProgramming123'\n",
    "print(s2.isnumeric())\n",
    "print(s3.isnumeric())"
   ]
  },
  {
   "cell_type": "code",
   "execution_count": 61,
   "metadata": {},
   "outputs": [
    {
     "name": "stdout",
     "output_type": "stream",
     "text": [
      "True\n",
      "False\n"
     ]
    }
   ],
   "source": [
    "s2=\" \"\n",
    "s3='Python  Programming  123'\n",
    "print(s2.isspace())\n",
    "print(s3.isspace())"
   ]
  },
  {
   "cell_type": "markdown",
   "metadata": {},
   "source": [
    "STRING METHODS\n",
    "\n",
    ".join()--method will concatinations the strings\n",
    ".split()--returns the list of strings sepersted ny whitespace(no parameters are given)"
   ]
  },
  {
   "cell_type": "code",
   "execution_count": 62,
   "metadata": {},
   "outputs": [
    {
     "name": "stdout",
     "output_type": "stream",
     "text": [
      "p y t h o n\n"
     ]
    }
   ],
   "source": [
    "s1='python'\n",
    "print(\" \".join(s1))"
   ]
  },
  {
   "cell_type": "code",
   "execution_count": 63,
   "metadata": {},
   "outputs": [
    {
     "name": "stdout",
     "output_type": "stream",
     "text": [
      "p y t h o n   p r o g r a m m i n g   i s   e a s y\n"
     ]
    }
   ],
   "source": [
    "s2=\"python programming is easy\"\n",
    "print(\" \".join(s2))"
   ]
  },
  {
   "cell_type": "code",
   "execution_count": 64,
   "metadata": {},
   "outputs": [
    {
     "name": "stdout",
     "output_type": "stream",
     "text": [
      "python,programming,learn\n"
     ]
    }
   ],
   "source": [
    "li=['python','programming','learn']\n",
    "print(\",\".join(li))"
   ]
  },
  {
   "cell_type": "code",
   "execution_count": 65,
   "metadata": {},
   "outputs": [
    {
     "name": "stdout",
     "output_type": "stream",
     "text": [
      "['python', 'programming', 'easy', 'to', 'learn']\n"
     ]
    }
   ],
   "source": [
    "s2=\"python programming easy to learn\"\n",
    "print(s2.split())"
   ]
  },
  {
   "cell_type": "code",
   "execution_count": 66,
   "metadata": {},
   "outputs": [
    {
     "name": "stdout",
     "output_type": "stream",
     "text": [
      "['p', 'y', 't', 'h', 'o', 'n', ' ', 'p', 'r', 'o', 'g', 'r', 'a', 'm', 'm', 'i', 'n', 'g', ' ', 'e', 'a', 's', 'y', ' ', 't', 'o', ' ', 'l', 'e', 'a', 'r', 'n']\n"
     ]
    }
   ],
   "source": [
    "s2=\"python programming easy to learn\"\n",
    "li=list(s2)\n",
    "print(li)"
   ]
  },
  {
   "cell_type": "code",
   "execution_count": null,
   "metadata": {},
   "outputs": [],
   "source": []
  }
 ],
 "metadata": {
  "kernelspec": {
   "display_name": "Python 3",
   "language": "python",
   "name": "python3"
  },
  "language_info": {
   "codemirror_mode": {
    "name": "ipython",
    "version": 3
   },
   "file_extension": ".py",
   "mimetype": "text/x-python",
   "name": "python",
   "nbconvert_exporter": "python",
   "pygments_lexer": "ipython3",
   "version": "3.7.3"
  }
 },
 "nbformat": 4,
 "nbformat_minor": 2
}
