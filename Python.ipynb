{
 "cells": [
  {
   "cell_type": "markdown",
   "metadata": {},
   "source": [
    "# Mark\n",
    "## Mark\n",
    "### Mark"
   ]
  },
  {
   "cell_type": "markdown",
   "metadata": {},
   "source": [
    "# Trinath\n",
    "## Trinath\n",
    "### Trinath\n",
    "#### Trinath\n",
    "##### Trinath"
   ]
  },
  {
   "cell_type": "markdown",
   "metadata": {},
   "source": [
    "* point *"
   ]
  },
  {
   "cell_type": "markdown",
   "metadata": {},
   "source": [
    "** point **"
   ]
  },
  {
   "cell_type": "markdown",
   "metadata": {},
   "source": [
    "**point**"
   ]
  },
  {
   "cell_type": "markdown",
   "metadata": {},
   "source": [
    "***point***"
   ]
  },
  {
   "cell_type": "markdown",
   "metadata": {},
   "source": [
    "* krunker --[2]:https://krunker.io/?game=SIN:3609r"
   ]
  },
  {
   "cell_type": "markdown",
   "metadata": {},
   "source": [
    "* Google Site -- [Google][1]\n",
    "[1]:http://www.google.com"
   ]
  },
  {
   "cell_type": "markdown",
   "metadata": {},
   "source": [
    "* Krunker - [Krunker][2]\n",
    "[2]:https://krunker.io/?game=SIN:3609r"
   ]
  },
  {
   "cell_type": "code",
   "execution_count": 12,
   "metadata": {},
   "outputs": [
    {
     "name": "stdout",
     "output_type": "stream",
     "text": [
      "hello world\n"
     ]
    }
   ],
   "source": [
    "print(\"hello world\")"
   ]
  },
  {
   "cell_type": "code",
   "execution_count": 13,
   "metadata": {},
   "outputs": [
    {
     "name": "stdout",
     "output_type": "stream",
     "text": [
      "show man\n"
     ]
    }
   ],
   "source": [
    "print(\"show\",end=\" \")\n",
    "print(\"man\")"
   ]
  },
  {
   "cell_type": "code",
   "execution_count": 17,
   "metadata": {},
   "outputs": [
    {
     "name": "stdout",
     "output_type": "stream",
     "text": [
      "trinath  hi kodi trinath paanch\n"
     ]
    }
   ],
   "source": [
    "print(\"trinath\",\" hi\",end=\" \")\n",
    "print(\"kodi\",end=\" trinath \")\n",
    "print(\"paanch\")"
   ]
  },
  {
   "cell_type": "code",
   "execution_count": 20,
   "metadata": {},
   "outputs": [
    {
     "name": "stdout",
     "output_type": "stream",
     "text": [
      "20\n",
      "61 61 61\n",
      "20 11 30\n"
     ]
    }
   ],
   "source": [
    "a=20 #single variable assignment\n",
    "b=c=v=61 # multi variable assignment with same value\n",
    "z,d,f=20,30,11 # multi variable assignment with different variables & values\n",
    "print(a)\n",
    "print(b,c,v)\n",
    "print(z,f,d)"
   ]
  },
  {
   "cell_type": "code",
   "execution_count": 24,
   "metadata": {},
   "outputs": [
    {
     "name": "stdout",
     "output_type": "stream",
     "text": [
      "48 33.48\n",
      "<class 'int'>\n",
      "<class 'float'>\n"
     ]
    }
   ],
   "source": [
    "x=48\n",
    "y=33.48\n",
    "print(x,y)\n",
    "print(type(a))\n",
    "print(type(y))"
   ]
  },
  {
   "cell_type": "code",
   "execution_count": 25,
   "metadata": {},
   "outputs": [
    {
     "name": "stdout",
     "output_type": "stream",
     "text": [
      "48 33.48\n",
      "<class 'int'> <class 'float'>\n"
     ]
    }
   ],
   "source": [
    "x=48\n",
    "y=33.48\n",
    "print(x,y)\n",
    "print(type(x),type(y))"
   ]
  },
  {
   "cell_type": "code",
   "execution_count": 26,
   "metadata": {},
   "outputs": [
    {
     "name": "stdout",
     "output_type": "stream",
     "text": [
      "hello!\n",
      "hello\n"
     ]
    }
   ],
   "source": [
    "print(\"hello!\\nhello\")"
   ]
  },
  {
   "cell_type": "code",
   "execution_count": 5,
   "metadata": {},
   "outputs": [
    {
     "name": "stdout",
     "output_type": "stream",
     "text": [
      "<class 'int'>\n",
      "<class 'str'>\n",
      "<class 'float'>\n"
     ]
    }
   ],
   "source": [
    "i=100\n",
    "print(type(i))\n",
    "x=str(i) # str() converts the input to string type\n",
    "print(type(x))\n",
    "y=float(i) # float() converts the input into float type\n",
    "print(type(y))"
   ]
  },
  {
   "cell_type": "code",
   "execution_count": null,
   "metadata": {},
   "outputs": [],
   "source": [
    "x=\"100\"\n",
    "print(type(x))\n",
    "a=int(x)\n",
    "print(type(a))\n",
    "f=3.3\n",
    "z=int(f)\n",
    "print(type(z))\n",
    "print(z)"
   ]
  },
  {
   "cell_type": "code",
   "execution_count": 7,
   "metadata": {},
   "outputs": [
    {
     "name": "stdout",
     "output_type": "stream",
     "text": [
      "4\n"
     ]
    }
   ],
   "source": [
    "#TO FIND LENGTH\n",
    "a=3348\n",
    "print(len(str(a)))"
   ]
  },
  {
   "cell_type": "code",
   "execution_count": 8,
   "metadata": {},
   "outputs": [
    {
     "name": "stdout",
     "output_type": "stream",
     "text": [
      "enter your nametrinath\n",
      "trinath\n",
      "<class 'str'>\n"
     ]
    }
   ],
   "source": [
    "s1=input(\"enter your name\")\n",
    "print(s1)\n",
    "print(type(s1))"
   ]
  },
  {
   "cell_type": "markdown",
   "metadata": {},
   "source": [
    "# Operators"
   ]
  },
  {
   "cell_type": "markdown",
   "metadata": {},
   "source": [
    "## Arithetic Operators"
   ]
  },
  {
   "cell_type": "markdown",
   "metadata": {},
   "source": [
    "* +\n",
    "* -\n",
    "* /\n",
    "* %\n",
    "* *\n",
    "* // # double division gives answer in int type while single division gives output in float\n",
    "### **"
   ]
  },
  {
   "cell_type": "code",
   "execution_count": 9,
   "metadata": {},
   "outputs": [
    {
     "name": "stdout",
     "output_type": "stream",
     "text": [
      "81\n",
      "15\n",
      "1.4545454545454546\n",
      "1584\n",
      "1\n",
      "30266404599109864532334369015971799232027475459658743808\n"
     ]
    }
   ],
   "source": [
    "x,y=48,33\n",
    "print(x+y)\n",
    "print(x-y)\n",
    "print(x/y)\n",
    "print(x*y)\n",
    "print(x//y)\n",
    "print(x**y)"
   ]
  },
  {
   "cell_type": "code",
   "execution_count": 10,
   "metadata": {},
   "outputs": [
    {
     "name": "stdout",
     "output_type": "stream",
     "text": [
      "8.0\n",
      "<class 'float'>\n"
     ]
    }
   ],
   "source": [
    "x=1+2**3/4+5\n",
    "print(x)\n",
    "print(type(x))"
   ]
  },
  {
   "cell_type": "markdown",
   "metadata": {},
   "source": [
    "## Relational Operators\n",
    "\n",
    "* ==\n",
    "* !=\n",
    "* greater than (>)\n",
    "* less than (<)\n",
    "* greater than or equal to (>=)\n",
    "* lessthan or equal to (<=)\n"
   ]
  },
  {
   "cell_type": "code",
   "execution_count": 11,
   "metadata": {},
   "outputs": [
    {
     "name": "stdout",
     "output_type": "stream",
     "text": [
      "False\n",
      "True\n"
     ]
    }
   ],
   "source": [
    "a,b=5,8\n",
    "x=(a>5 and b>8)\n",
    "y=(a<6 and b<9)\n",
    "print(x)\n",
    "print(y)"
   ]
  },
  {
   "cell_type": "markdown",
   "metadata": {},
   "source": [
    "# Else If Syntax"
   ]
  },
  {
   "cell_type": "markdown",
   "metadata": {},
   "source": [
    "if<>:\n",
    "else:\n",
    "\n",
    "## or\n",
    "\n",
    "if<>:\n",
    "elif<>:"
   ]
  },
  {
   "cell_type": "code",
   "execution_count": 2,
   "metadata": {},
   "outputs": [
    {
     "name": "stdout",
     "output_type": "stream",
     "text": [
      "enter a number9\n",
      "odd\n"
     ]
    }
   ],
   "source": [
    "# To check given number is even or odd\n",
    "n=int(input(\"enter a number\"))\n",
    "if n%2 == 0:\n",
    "    print(\"even\")\n",
    "else:\n",
    "    print(\"odd\")"
   ]
  },
  {
   "cell_type": "code",
   "execution_count": 3,
   "metadata": {},
   "outputs": [
    {
     "name": "stdout",
     "output_type": "stream",
     "text": [
      "enter a number25\n",
      "not divisible by 3 & 5\n"
     ]
    }
   ],
   "source": [
    "# Given number is divisible by both 3 & 5 or not\n",
    "n=int(input(\"enter a number\"))\n",
    "if n%3==0 and n%5==0:\n",
    "    print(\"divisible by 3 & 5\")\n",
    "else:\n",
    "    print(\"not divisible by 3 & 5\")"
   ]
  },
  {
   "cell_type": "code",
   "execution_count": null,
   "metadata": {},
   "outputs": [],
   "source": [
    "# Given number is 0 or -ve or +ve\n",
    "n=int(input(\"enter a number\"))\n",
    "if n==0:\n",
    "    print(\"n=0\")\n",
    "elif n>0:\n",
    "    print(\"n>0\")\n",
    "else:\n",
    "    print(\"n<0\")"
   ]
  },
  {
   "cell_type": "code",
   "execution_count": null,
   "metadata": {},
   "outputs": [],
   "source": [
    "# Largest among the three numberws\n",
    "a=int(input(\"enter a number\"))\n",
    "b=int(input(\"enter b number\"))\n",
    "c=int(input(\"enter c number\"))\n",
    "if a<b and a<c:\n",
    "    print(a, \"is largest\")\n",
    "elif b<a and b<c:\n",
    "    print(b,\"is largest\")\n",
    "else:\n",
    "    print(c,\"is largest\")"
   ]
  },
  {
   "cell_type": "code",
   "execution_count": null,
   "metadata": {},
   "outputs": [],
   "source": [
    "#to check given year is leap or not\n",
    "n=int(input(\"enter a year\"))\n",
    "if n%4==0:\n",
    "    print(n,\"is a leap year\")\n",
    "else:\n",
    "    print(n,\"is not a leap year\")"
   ]
  },
  {
   "cell_type": "markdown",
   "metadata": {},
   "source": [
    "# Iterations\n",
    "\n",
    "    1. While\n",
    "    2. For"
   ]
  },
  {
   "cell_type": "markdown",
   "metadata": {},
   "source": [
    "## While Boolean Condition:\n",
    "      Statements\n",
    "      Increment/Decrement(update)\n",
    "      \n",
    "### Syntax\n",
    "     while condition:\n",
    "     statements\n",
    "     update"
   ]
  },
  {
   "cell_type": "code",
   "execution_count": 1,
   "metadata": {},
   "outputs": [
    {
     "name": "stdout",
     "output_type": "stream",
     "text": [
      "enter a nameg\n",
      "g\n",
      "g\n",
      "g\n",
      "g\n",
      "g\n"
     ]
    }
   ],
   "source": [
    "# To print A name 5 times\n",
    "n=str(input(\"enter a name\"))\n",
    "i=0\n",
    "while i<5:\n",
    "    print(n)\n",
    "    i=i+1"
   ]
  },
  {
   "cell_type": "code",
   "execution_count": 10,
   "metadata": {},
   "outputs": [
    {
     "name": "stdout",
     "output_type": "stream",
     "text": [
      "enter n6\n",
      "0 1 2 3 4 5 6 "
     ]
    }
   ],
   "source": [
    "# T print 1 to n numbers\n",
    "n=int(input(\"enter n\"))\n",
    "i=0\n",
    "while i<=n:\n",
    "    print(i,end=\" \")\n",
    "    i=i+1"
   ]
  },
  {
   "cell_type": "code",
   "execution_count": 6,
   "metadata": {},
   "outputs": [
    {
     "name": "stdout",
     "output_type": "stream",
     "text": [
      "enter a number5\n",
      "9\n"
     ]
    }
   ],
   "source": [
    "# To read even number between 1 to n and sum them\n",
    "n=int(input(\"enter a number\"))\n",
    "i=0\n",
    "sum=0\n",
    "while i<=n:\n",
    "    if i%2==0:\n",
    "        sum=sum+i\n",
    "    i=i+1   \n",
    "print(sum)"
   ]
  },
  {
   "cell_type": "code",
   "execution_count": 7,
   "metadata": {},
   "outputs": [
    {
     "name": "stdout",
     "output_type": "stream",
     "text": [
      "enter a number3\n",
      "4\n"
     ]
    }
   ],
   "source": [
    "# To read odd numbers  between 1 to n\n",
    "n=int(input(\"enter a number\"))\n",
    "i=0\n",
    "sum=0\n",
    "while i<=n:\n",
    "    if i%2!=0:\n",
    "        sum=sum+i\n",
    "    i=i+1   \n",
    "print(sum)"
   ]
  },
  {
   "cell_type": "code",
   "execution_count": 7,
   "metadata": {},
   "outputs": [
    {
     "name": "stdout",
     "output_type": "stream",
     "text": [
      "enter a number3483\n",
      "3483\n",
      "3\n",
      "8\n",
      "4\n",
      "3\n"
     ]
    }
   ],
   "source": [
    "# to print digits in given number\n",
    "n=int(input(\"enter a number\"))\n",
    "r=0\n",
    "print(n)\n",
    "while n>0:\n",
    "    r=n%10\n",
    "    print(r)\n",
    "    n=int(n/10)"
   ]
  },
  {
   "cell_type": "markdown",
   "metadata": {},
   "source": [
    "# Functional Programing\n",
    "\n",
    "## Simple\n",
    "## Easy to read\n",
    "## Lengthy program divides into sub-program"
   ]
  },
  {
   "cell_type": "markdown",
   "metadata": {},
   "source": [
    "### def  name of the function (parameters):\n",
    "    Statements\n",
    "    return"
   ]
  },
  {
   "cell_type": "code",
   "execution_count": 37,
   "metadata": {},
   "outputs": [
    {
     "name": "stdout",
     "output_type": "stream",
     "text": [
      "enter a number4666666\n"
     ]
    },
    {
     "data": {
      "text/plain": [
       "40"
      ]
     },
     "execution_count": 37,
     "metadata": {},
     "output_type": "execute_result"
    }
   ],
   "source": [
    "# Sum of even digits using functions\n",
    "def addevendigits(n):\n",
    "    sum=0\n",
    "    while n!=0:\n",
    "        r=n%10\n",
    "        if r%2==0:\n",
    "            sum=sum+r\n",
    "        n=n//10\n",
    "    return(sum)#instead of return print can also be used\n",
    "n=int(input(\"enter a number\"))\n",
    "addevendigits(n)"
   ]
  },
  {
   "cell_type": "code",
   "execution_count": 30,
   "metadata": {},
   "outputs": [
    {
     "name": "stdout",
     "output_type": "stream",
     "text": [
      "enter a number4738\n",
      "8\n"
     ]
    }
   ],
   "source": [
    "# To print Large digit in a number\n",
    "def larger(n):\n",
    "    a=0\n",
    "    while n!=0:\n",
    "        r=n%10\n",
    "        if r>a:\n",
    "            a=r\n",
    "        n=n//10\n",
    "    print(a)      \n",
    "n=int(input(\"enter a number\"))\n",
    "larger(n)"
   ]
  },
  {
   "cell_type": "code",
   "execution_count": 38,
   "metadata": {},
   "outputs": [
    {
     "name": "stdout",
     "output_type": "stream",
     "text": [
      "enter a number457\n"
     ]
    },
    {
     "data": {
      "text/plain": [
       "754"
      ]
     },
     "execution_count": 38,
     "metadata": {},
     "output_type": "execute_result"
    }
   ],
   "source": [
    "#To reverse a number\n",
    "def reverse(n):\n",
    "    s=0\n",
    "    while n!=0:\n",
    "        r=n%10\n",
    "        s=s*10+r\n",
    "        n=n//10\n",
    "    return(s)\n",
    "n=int(input(\"enter a number\"))\n",
    "reverse(n)"
   ]
  },
  {
   "cell_type": "code",
   "execution_count": 47,
   "metadata": {},
   "outputs": [
    {
     "name": "stdout",
     "output_type": "stream",
     "text": [
      "enter a number3443\n",
      "pallindrome\n"
     ]
    }
   ],
   "source": [
    "#Given number is palindrome or not\n",
    "def pallindrome(n):\n",
    "    s=0\n",
    "    k=n\n",
    "    while n!=0:\n",
    "        r=n%10\n",
    "        s=s*10+r\n",
    "        n=n//10\n",
    "    if k==s:\n",
    "        print(\"pallindrome\")\n",
    "    else:\n",
    "        return \"Not a Pallindrome\"\n",
    "n=int(input(\"enter a number\"))\n",
    "pallindrome(n)"
   ]
  },
  {
   "cell_type": "code",
   "execution_count": 1,
   "metadata": {},
   "outputs": [
    {
     "name": "stdout",
     "output_type": "stream",
     "text": [
      "enter a number9\n",
      "362880\n"
     ]
    }
   ],
   "source": [
    "#factorial\n",
    "\n",
    "n=int(input(\"enter a number\"))\n",
    "def fact(n):\n",
    "    f=1\n",
    "    i=1\n",
    "    while i<=n:\n",
    "        f=f*i\n",
    "        i=i+1\n",
    "    return(f)\n",
    "print(fact(n))"
   ]
  },
  {
   "cell_type": "markdown",
   "metadata": {},
   "source": [
    "## Functions using for loop"
   ]
  },
  {
   "cell_type": "code",
   "execution_count": 4,
   "metadata": {},
   "outputs": [
    {
     "name": "stdout",
     "output_type": "stream",
     "text": [
      "enter n4\n",
      "1 2 3 4 "
     ]
    }
   ],
   "source": [
    "#To print 1 to n numbers\n",
    "def num(n):\n",
    "    for i in range (1,n+1):\n",
    "        print(i,end=\" \")\n",
    "n=int(input(\"enter n\"))\n",
    "num(n)"
   ]
  },
  {
   "cell_type": "code",
   "execution_count": 8,
   "metadata": {},
   "outputs": [
    {
     "name": "stdout",
     "output_type": "stream",
     "text": [
      "enter n44\n",
      "enter m22\n",
      "44 43 42 41 40 39 38 37 36 35 34 33 32 31 30 29 28 27 26 25 24 23 22 "
     ]
    }
   ],
   "source": [
    "# to print alternative numbers\n",
    "def num(n,m):\n",
    "    for i in range (n,m-1,-1):\n",
    "        print(i,end=\" \")\n",
    "n=int(input(\"enter n\"))\n",
    "m=int(input(\"enter m\"))\n",
    "num(n,m)"
   ]
  },
  {
   "cell_type": "code",
   "execution_count": 1,
   "metadata": {},
   "outputs": [
    {
     "name": "stdout",
     "output_type": "stream",
     "text": [
      "10\n",
      "14\n",
      "18\n"
     ]
    }
   ],
   "source": [
    "for i in range(10,20-1,4):\n",
    "      print(i)\n"
   ]
  },
  {
   "cell_type": "code",
   "execution_count": 5,
   "metadata": {},
   "outputs": [
    {
     "name": "stdout",
     "output_type": "stream",
     "text": [
      "enter n6\n",
      "1 2 3 6 "
     ]
    }
   ],
   "source": [
    "#to find factors of given number\n",
    "def fact(n):\n",
    "    for i in range(1,n+1):\n",
    "        if n%i==0:\n",
    "            print(i,end=\" \")\n",
    "n=int(input(\"enter n\"))\n",
    "fact(n)"
   ]
  },
  {
   "cell_type": "code",
   "execution_count": 7,
   "metadata": {},
   "outputs": [
    {
     "name": "stdout",
     "output_type": "stream",
     "text": [
      "enter n4\n"
     ]
    },
    {
     "data": {
      "text/plain": [
       "False"
      ]
     },
     "execution_count": 7,
     "metadata": {},
     "output_type": "execute_result"
    }
   ],
   "source": [
    "# prime or not\n",
    "def isprime(n):\n",
    "    f=True\n",
    "    for i in range (2,n//2+1):\n",
    "        if n%i==0:\n",
    "            f=False\n",
    "            return f\n",
    "        return f\n",
    "n=int(input(\"enter n\"))\n",
    "isprime(n)\n",
    "        "
   ]
  },
  {
   "cell_type": "code",
   "execution_count": 22,
   "metadata": {},
   "outputs": [
    {
     "name": "stdout",
     "output_type": "stream",
     "text": [
      "enter n100\n"
     ]
    },
    {
     "data": {
      "text/plain": [
       "25"
      ]
     },
     "execution_count": 22,
     "metadata": {},
     "output_type": "execute_result"
    }
   ],
   "source": [
    "# prime numbers count in 1 to n\n",
    "def count(n):\n",
    "    x=0\n",
    "    for a in range (2,n+1):\n",
    "        c=0\n",
    "        for i in range (2,a//2+1):\n",
    "            if a%i==0:\n",
    "                c=c+1\n",
    "        if c==0:\n",
    "                x=x+1\n",
    "    return(x)\n",
    "n=int(input(\"enter n\"))\n",
    "count(n)"
   ]
  },
  {
   "cell_type": "code",
   "execution_count": 29,
   "metadata": {},
   "outputs": [
    {
     "name": "stdout",
     "output_type": "stream",
     "text": [
      "enter n3\n"
     ]
    },
    {
     "data": {
      "text/plain": [
       "9"
      ]
     },
     "execution_count": 29,
     "metadata": {},
     "output_type": "execute_result"
    }
   ],
   "source": [
    "# tp print series 1! + 2! + 31...n!\n",
    "def fact(a):\n",
    "    f=1\n",
    "    for i in range (1,a+1):\n",
    "        f*=i\n",
    "    return f   \n",
    "def series(m):\n",
    "    s=0\n",
    "    for x in range (1,n+1):\n",
    "        s=s+fact(x)\n",
    "    return s\n",
    "n=int(input(\"enter n\"))\n",
    "series(n)"
   ]
  },
  {
   "cell_type": "code",
   "execution_count": 30,
   "metadata": {},
   "outputs": [
    {
     "name": "stdout",
     "output_type": "stream",
     "text": [
      "enter lb 22\n",
      "enter ub 33\n"
     ]
    },
    {
     "data": {
      "text/plain": [
       "2"
      ]
     },
     "execution_count": 30,
     "metadata": {},
     "output_type": "execute_result"
    }
   ],
   "source": [
    "# count pallindrome\n",
    "def ispallindrome(n):\n",
    "    s=0\n",
    "    a=n\n",
    "    while n!=0:\n",
    "        r=n%10\n",
    "        s=s*10+r\n",
    "        n=n//10\n",
    "    if a==s:\n",
    "        return True\n",
    "    else:\n",
    "        return False\n",
    "def count(lb,ub):\n",
    "    c=0\n",
    "    while lb<=ub:\n",
    "        if ispallindrome(lb)==True:\n",
    "            c=c+1\n",
    "        lb=lb+1\n",
    "    return c\n",
    "lb=int(input(\"enter lb \"))\n",
    "ub=int(input(\"enter ub \"))        \n",
    "count(lb,ub)"
   ]
  },
  {
   "cell_type": "code",
   "execution_count": null,
   "metadata": {},
   "outputs": [
    {
     "name": "stdout",
     "output_type": "stream",
     "text": [
      "enter n10\n"
     ]
    }
   ],
   "source": [
    "# Function to generate perfect numbers in a given range\n",
    "def fact(n):\n",
    "    a=n\n",
    "    c=0\n",
    "    for x in range (1,a+1):\n",
    "        s=0\n",
    "        i=1\n",
    "        while i<x:\n",
    "            if x%i==0:\n",
    "                s=s+i\n",
    "                x=x+1\n",
    "        if s==x:\n",
    "            return c  \n",
    "n=int(input(\"enter n\"))\n",
    "fact(n)"
   ]
  },
  {
   "cell_type": "code",
   "execution_count": 2,
   "metadata": {},
   "outputs": [
    {
     "name": "stdout",
     "output_type": "stream",
     "text": [
      "6 28 496 8128 \n"
     ]
    }
   ],
   "source": [
    "# Function to generate perfect numbers in given range\n",
    "def fact(n):\n",
    "    s=0\n",
    "    for i in range(1,n//2+1):\n",
    "        if n%i==0:\n",
    "            s=s+i\n",
    "    return s\n",
    "def isperfect(n):\n",
    "    if fact(n) == n:\n",
    "        return True\n",
    "    return False\n",
    "def generatePerfect(lb,ub):\n",
    "    for x in range(lb,ub+1):\n",
    "        if isperfect(x):\n",
    "            print(x,end=\" \")\n",
    "    print()\n",
    "    return\n",
    "generatePerfect(1,10000)"
   ]
  },
  {
   "cell_type": "markdown",
   "metadata": {},
   "source": [
    "## Strings"
   ]
  },
  {
   "cell_type": "code",
   "execution_count": 3,
   "metadata": {},
   "outputs": [
    {
     "name": "stdout",
     "output_type": "stream",
     "text": [
      "S\n",
      "h\n",
      "n\n"
     ]
    }
   ],
   "source": [
    "s='Showman'\n",
    "print(s[0])           # first character\n",
    "print(s[1])\n",
    "print(s[len(s)-1])   #last character"
   ]
  },
  {
   "cell_type": "markdown",
   "metadata": {},
   "source": [
    "##### Access the first character-- print(s[0:2]) or print(s[:2])\n",
    "#### Access the last three characters --print(s[-3:])\n",
    "#### To print all characters except 1st and last-- print(s[1:-1])\n",
    "#### Reverse of string --print(s[-1::-1]) or [::-1]\n",
    "#### last 2 chars in reverse order-- print(s[-1:-3:-1])\n",
    "## Alternate characters\n",
    "#### for 2 -- print(s[::2])\n",
    "#### for 3 --print(s[::3])"
   ]
  },
  {
   "cell_type": "code",
   "execution_count": 7,
   "metadata": {},
   "outputs": [
    {
     "data": {
      "text/plain": [
       "'ugor'"
      ]
     },
     "execution_count": 7,
     "metadata": {},
     "output_type": "execute_result"
    }
   ],
   "source": [
    "#reverse a string\n",
    "def strrev(str):\n",
    "    return str[::-1]\n",
    "strrev(\"rogu\")"
   ]
  },
  {
   "cell_type": "code",
   "execution_count": 9,
   "metadata": {},
   "outputs": [
    {
     "name": "stdout",
     "output_type": "stream",
     "text": [
      "enter a sting lol\n"
     ]
    },
    {
     "data": {
      "text/plain": [
       "True"
      ]
     },
     "execution_count": 9,
     "metadata": {},
     "output_type": "execute_result"
    }
   ],
   "source": [
    "# String palindrome\n",
    "def ispalindrome(s):\n",
    "    if s==s[::]:\n",
    "        return True\n",
    "    else:\n",
    "        return False\n",
    "s=str(input(\"enter a sting \"))\n",
    "ispalindrome(s)"
   ]
  },
  {
   "cell_type": "markdown",
   "metadata": {},
   "source": [
    "### ASCII:\n",
    "\n",
    "* A - Z : 65 - 90\n",
    "* a - z : 97 - 122\n",
    "* 0 - 9 : 48 - 57\n",
    "* space : 32"
   ]
  },
  {
   "cell_type": "code",
   "execution_count": 2,
   "metadata": {},
   "outputs": [
    {
     "name": "stdout",
     "output_type": "stream",
     "text": [
      "enter a stringReAr\n",
      "R A "
     ]
    }
   ],
   "source": [
    "# print upper case char\n",
    "def upper(s):\n",
    "    for i in range (len(s)):\n",
    "        if ord(s[i])>=65 and ord(s[i])<=90:\n",
    "            print(s[i],end=\" \")\n",
    "s=str(input(\"enter a string\"))\n",
    "upper(s)"
   ]
  },
  {
   "cell_type": "code",
   "execution_count": 8,
   "metadata": {},
   "outputs": [
    {
     "name": "stdout",
     "output_type": "stream",
     "text": [
      "enter a stringRan\n",
      "programming\n"
     ]
    }
   ],
   "source": [
    "# Function to print \"Python\" if the count of upper and lower\n",
    "# case chars is same\n",
    "# Print programming if not same\n",
    "def uplo(s):\n",
    "    a,b=0,0\n",
    "    for i in range (len(s)):\n",
    "        if ord(s[i])>=65 and ord(s[i])<=90:\n",
    "            a+=1\n",
    "        elif ord(s[i])>=97 and ord(s[i])<=122:\n",
    "            b+=1\n",
    "    if a==b:\n",
    "        print(\"Python\")\n",
    "    else:\n",
    "        print(\"programming\")\n",
    "s=str(input(\"enter a string\"))\n",
    "uplo(s)"
   ]
  },
  {
   "cell_type": "code",
   "execution_count": 10,
   "metadata": {},
   "outputs": [
    {
     "name": "stdout",
     "output_type": "stream",
     "text": [
      "enter a stringra5g7\n",
      "5 7 "
     ]
    }
   ],
   "source": [
    "# Extract numbers from given string\n",
    "def extract(s):\n",
    "    for i in range (len(s)):\n",
    "        if ord(s[i])>=48 and ord(s[i])<=57:\n",
    "            print(s[i],end=\" \")\n",
    "s=str(input(\"enter a string\"))\n",
    "extract(s)"
   ]
  },
  {
   "cell_type": "code",
   "execution_count": 19,
   "metadata": {},
   "outputs": [
    {
     "name": "stdout",
     "output_type": "stream",
     "text": [
      "enter a stringt5y7\n",
      "sum of digits is 12\n"
     ]
    }
   ],
   "source": [
    "# Extract numbers from given string and add\n",
    "def extract(s):\n",
    "    a=0\n",
    "    for i in range (len(s)):\n",
    "        if ord(s[i])>=48 and ord(s[i])<=57:\n",
    "            a=ord(s[i])-48 + a\n",
    "    print(\"sum of digits is\",a)\n",
    "s=str(input(\"enter a string\"))\n",
    "extract(s)"
   ]
  },
  {
   "cell_type": "code",
   "execution_count": 21,
   "metadata": {},
   "outputs": [
    {
     "name": "stdout",
     "output_type": "stream",
     "text": [
      "M A D E "
     ]
    }
   ],
   "source": [
    "# to count characters count differently\n",
    "def word(s):\n",
    "    spaceCnt=0\n",
    "    for i in range (len(s)):\n",
    "        if ord(s[i])==32:\n",
    "            spaceCnt+=1\n",
    "        if spaceCnt==1:\n",
    "            if ord(s[i])>=65 and ord(s[i])<=90:\n",
    "                print(s[i],end=\" \")\n",
    "            elif ord(s[i])>=97 and ord(s[i])<=122:\n",
    "                print(chr(ord(s[i])-32),end=\" \")\n",
    "        if spaceCnt==2:\n",
    "            break\n",
    "    return\n",
    "word('Python Made Easy')        \n",
    "            "
   ]
  },
  {
   "cell_type": "code",
   "execution_count": 23,
   "metadata": {},
   "outputs": [
    {
     "name": "stdout",
     "output_type": "stream",
     "text": [
      "eoiim\n"
     ]
    }
   ],
   "source": [
    "x='gitam engineering college'\n",
    "print(x[len(x)::-5])"
   ]
  },
  {
   "cell_type": "markdown",
   "metadata": {},
   "source": [
    "## Today Objectives:\n",
    "### Python Data Structures\n",
    "         -Lists\n",
    "          -Tuples\n",
    "           -Dictionaries\n",
    "### Basic Program sets on Data Structures\n",
    "* Advanced Problem Solving\n",
    "* Contact Application (Dictionary object) \n",
    "### Data Structures:\n",
    "* To store ,Search and Sort the data"
   ]
  },
  {
   "cell_type": "markdown",
   "metadata": {},
   "source": [
    "### Python Data Structurs\n",
    "#### Lists\n",
    " - It's one of common data structures supports by Python, the list items are seperated by comma (,) operator and enclosed in square brackets\n",
    " * Example\n",
    "       -list1=[1,5,7,4,9]\n",
    "       -list2=[\"Gitam\",10,45,\"Hyderabad\"]\n",
    "       "
   ]
  },
  {
   "cell_type": "code",
   "execution_count": 5,
   "metadata": {},
   "outputs": [
    {
     "name": "stdout",
     "output_type": "stream",
     "text": [
      "[1, 4, 7, 9, 10]\n",
      "4\n",
      "10\n",
      "9\n",
      "[4, 7, 9, 10]\n",
      "[4, 7, 9]\n"
     ]
    }
   ],
   "source": [
    "#example \"Creating the list object in python\"\n",
    "x=[1,4,7,9,10] \n",
    "print(x)  #access the entire term\n",
    "print(x[1])   #Access the second item\n",
    "print(x[-1])  #Access the last item\n",
    "print(x[-2])   #Access the last to 2nd term\n",
    "print(x[1:])  #Prints from second term\n",
    "print(x[1:4])  #Prints from 2nd term to 4th term"
   ]
  },
  {
   "cell_type": "code",
   "execution_count": 9,
   "metadata": {},
   "outputs": [
    {
     "name": "stdout",
     "output_type": "stream",
     "text": [
      "[1, 2, 567, 876]\n",
      "[1, 440, 567, 876]\n"
     ]
    }
   ],
   "source": [
    "# Updating the list item values using index\n",
    "x=[1,2,567,876]\n",
    "print(x)\n",
    "x[1]=440\n",
    "print(x)"
   ]
  },
  {
   "cell_type": "code",
   "execution_count": 8,
   "metadata": {},
   "outputs": [
    {
     "name": "stdout",
     "output_type": "stream",
     "text": [
      "[1, 2, 567, 876]\n",
      "[1, 567, 876]\n"
     ]
    }
   ],
   "source": [
    "# To delete specific item in the list\n",
    "x=[1,2,567,876]\n",
    "print(x)\n",
    "del x[1]\n",
    "print(x)"
   ]
  },
  {
   "cell_type": "code",
   "execution_count": 12,
   "metadata": {},
   "outputs": [
    {
     "name": "stdout",
     "output_type": "stream",
     "text": [
      "5\n",
      "[8, 4, 3, 0, 3, 8, 4, 3, 0, 3]\n",
      "5\n",
      "False\n",
      "True\n",
      "8 4 3 0 3 "
     ]
    }
   ],
   "source": [
    "#BAsic List Operators\n",
    "lst=[8,4,3,0,3]\n",
    "print(len(lst)) #Length of string\n",
    "print(lst * 2) #Repetition\n",
    "print(len(lst))\n",
    "print(9 in lst) # To check whether number is present or not\n",
    "print(3 in lst)\n",
    "## Access the list items using iteration\n",
    "for i in range (len(lst)):\n",
    "    print(lst[i],end=\" \")"
   ]
  },
  {
   "cell_type": "code",
   "execution_count": 14,
   "metadata": {},
   "outputs": [
    {
     "name": "stdout",
     "output_type": "stream",
     "text": [
      "8\n",
      "0\n",
      "18\n",
      "3.6\n",
      "2.0\n"
     ]
    }
   ],
   "source": [
    "# Functions of the list\n",
    "lst\n",
    "print(max(lst)) # Max element in list\n",
    "print(min(lst)) # Min element in list\n",
    "print(sum(lst)) # Sum of all elements in the List\n",
    "print(sum(lst)//len(lst)) # Gives avg of list elements\n",
    "print(sum(lst[1::2])/len(lst[1::2])) # Avg of all the alternate elements"
   ]
  },
  {
   "cell_type": "code",
   "execution_count": 46,
   "metadata": {
    "scrolled": true
   },
   "outputs": [
    {
     "name": "stdout",
     "output_type": "stream",
     "text": [
      "[1, 2, 3, 4]\n",
      "[1, 2, 3, 4, 83]\n",
      "[1, 2, 3, 4, 24, 83]\n",
      "1\n",
      "[1, 2, 3, 4, 24, 83]\n",
      "[1, 3, 4, 24, 83]\n",
      "[1, 3, 4, 24, 83, 9, 8, 0]\n",
      "[0, 8, 9, 83, 24, 4]\n"
     ]
    }
   ],
   "source": [
    "lst=[1,2,3,4]\n",
    "print(lst)\n",
    "lst.append(83) # Adding a new element at the end of list\n",
    "print(lst)\n",
    "lst.insert(4,24) # Adding an element at particular index\n",
    "print(lst)\n",
    "lst.index(4) # Returns index value of element\n",
    "lst.count(18) # Return the value how many times element repeated\n",
    "print(lst.count(3))\n",
    "lst.sort() # Sort the elements in ascending order\n",
    "lst.pop # Remove the last element from list\n",
    "print(lst)\n",
    "lst.pop(1) # Remove an element from a particular index\n",
    "print(lst)\n",
    "lst1=[9,8,0]\n",
    "lst.extend(lst1) # Merge the list2 with list1\n",
    "print(lst)\n",
    "lst.reverse() # Reverses the list\n",
    "lst.remove(1) # Removes the list\n",
    "lst.remove(3) # Removes that element\n",
    "print(lst)"
   ]
  },
  {
   "cell_type": "code",
   "execution_count": 35,
   "metadata": {
    "scrolled": true
   },
   "outputs": [
    {
     "name": "stdout",
     "output_type": "stream",
     "text": [
      "[5, 2]\n"
     ]
    }
   ],
   "source": [
    "x=[1,2,3,4,5]\n",
    "print(x[-1::-3])"
   ]
  },
  {
   "cell_type": "code",
   "execution_count": 47,
   "metadata": {},
   "outputs": [
    {
     "data": {
      "text/plain": [
       "6"
      ]
     },
     "execution_count": 47,
     "metadata": {},
     "output_type": "execute_result"
    }
   ],
   "source": [
    "# Function to find the second large item from the list\n",
    "def seclarge(x):\n",
    "    x.sort()\n",
    "    return x[-2]\n",
    "x=[1,2,6,3,8]\n",
    "seclarge(x)"
   ]
  },
  {
   "cell_type": "code",
   "execution_count": 50,
   "metadata": {},
   "outputs": [
    {
     "data": {
      "text/plain": [
       "7"
      ]
     },
     "execution_count": 50,
     "metadata": {},
     "output_type": "execute_result"
    }
   ],
   "source": [
    "# Generic Large\n",
    "def genericlarge(x,n):\n",
    "    x.sort()\n",
    "    return x[-n]\n",
    "x=[7,3,90,3,45,76]\n",
    "genericlarge(x,4)"
   ]
  },
  {
   "cell_type": "code",
   "execution_count": 52,
   "metadata": {},
   "outputs": [
    {
     "data": {
      "text/plain": [
       "2"
      ]
     },
     "execution_count": 52,
     "metadata": {},
     "output_type": "execute_result"
    }
   ],
   "source": [
    "# Second least in the list\n",
    "def secleast(x):\n",
    "    x.sort()\n",
    "    return x[1]\n",
    "x=[1,9,2,6,3,8]\n",
    "secleast(x)"
   ]
  },
  {
   "cell_type": "code",
   "execution_count": 53,
   "metadata": {},
   "outputs": [
    {
     "data": {
      "text/plain": [
       "45"
      ]
     },
     "execution_count": 53,
     "metadata": {},
     "output_type": "execute_result"
    }
   ],
   "source": [
    "# Generic Least\n",
    "def genericleast(x,n):\n",
    "    x.sort()\n",
    "    return x[n]\n",
    "x=[7,3,90,3,45,76]\n",
    "genericleast(x,3)"
   ]
  },
  {
   "cell_type": "markdown",
   "metadata": {},
   "source": [
    "### Searching Algorithm\n",
    "#### Linear Search\n",
    "#### Binary Search\n",
    "\n",
    "### Linear Search\n",
    "* Linear search algorithm can be applied on Duplicate and Unique List\n",
    "    - Unique list: All items of the list is appeared only once\n",
    "    - Duplicate List: The items of the list can be appeared more than once\n",
    "* Linear search algorithm can applied on Sorted and unsorted data"
   ]
  },
  {
   "cell_type": "code",
   "execution_count": 3,
   "metadata": {},
   "outputs": [
    {
     "data": {
      "text/plain": [
       "-1"
      ]
     },
     "execution_count": 3,
     "metadata": {},
     "output_type": "execute_result"
    }
   ],
   "source": [
    "# Function to search the data in a list\n",
    "# Search is found then return the index <if not return -1\n",
    "def linearsearch(x,target):\n",
    "    for i in range(len(x)):\n",
    "        if x[i]==target:\n",
    "            return i\n",
    "    return -1\n",
    "x=[5,8,3,4,8]\n",
    "linearsearch(x,9)"
   ]
  },
  {
   "cell_type": "code",
   "execution_count": 7,
   "metadata": {},
   "outputs": [
    {
     "name": "stdout",
     "output_type": "stream",
     "text": [
      "1 4 8 "
     ]
    }
   ],
   "source": [
    "# Function \n",
    "# Input : [1,5,9,6,5,15,1,2,5],key=5 # Duplicate\n",
    "# Output : 1 4 8\n",
    "def linearSearch(x,target):\n",
    "    for i in range (len(x)):\n",
    "        if x[i]==target:\n",
    "            print(i,end=\" \")\n",
    "    return\n",
    "x=[1,5,9,6,5,15,1,2,5]\n",
    "linearSearch(x,5)"
   ]
  },
  {
   "cell_type": "code",
   "execution_count": 15,
   "metadata": {},
   "outputs": [
    {
     "name": "stdout",
     "output_type": "stream",
     "text": [
      "! !  ! ! ! ! !  ! ! ! ! ! ! ! ! !  "
     ]
    }
   ],
   "source": [
    "# Function\n",
    "#input : list\n",
    "# Output : Seq of characters\n",
    "# Test case\n",
    "#[1,5,9,6,15,1,2,5],target=5 -- # 1 4 8== !! !!!!! !!!!!!!!!\n",
    "def linearSearch(x,target):\n",
    "    for i in range (len(x)):\n",
    "        if x[i]==target:\n",
    "            for a in range (1,i+2):\n",
    "                print(\"!\",end=\" \")\n",
    "            print(end=\" \")\n",
    "    return\n",
    "x=[1,5,9,6,5,15,1,2,5]\n",
    "linearSearch(x,5)"
   ]
  },
  {
   "cell_type": "code",
   "execution_count": 20,
   "metadata": {},
   "outputs": [
    {
     "data": {
      "text/plain": [
       "60"
      ]
     },
     "execution_count": 20,
     "metadata": {},
     "output_type": "execute_result"
    }
   ],
   "source": [
    "# Function\n",
    "# Input : List\n",
    "# output : Formatted\n",
    "# Test case :\n",
    "# [12,2,45,9,18,15,36] -- 60\n",
    "# A list item which is perfect multiples of 3 & 5\n",
    "def linearsearch(x):\n",
    "    s=0\n",
    "    for i in range (len(x)):\n",
    "        if  x[i]%3 ==0 and x[i]%5==0:\n",
    "            s=s+x[i]\n",
    "    return s\n",
    "x=[12,2,45,9,18,15,36]\n",
    "linearsearch(x)"
   ]
  },
  {
   "cell_type": "code",
   "execution_count": 33,
   "metadata": {},
   "outputs": [
    {
     "name": "stdout",
     "output_type": "stream",
     "text": [
      "1 3 8 15 5 "
     ]
    }
   ],
   "source": [
    "#Function\n",
    "# Input : List\n",
    "# Output : Formated Output\n",
    "# Test Case:\n",
    "# [1,2,3,4,5] -- [1,3,8,15,5]\n",
    "# [6,5,2,8,2] -- [6,12,40,4,2]\n",
    "def plot(x):\n",
    "    for i in range(len(x)):\n",
    "        if i==0 or i==len(x)-1:\n",
    "            print(x[i],end=\" \")\n",
    "        else:\n",
    "            print(x[i-1] * x[i+1],end=\" \")\n",
    "    return\n",
    "x=[1,2,3,4,5]\n",
    "plot(x)     "
   ]
  },
  {
   "cell_type": "code",
   "execution_count": 36,
   "metadata": {},
   "outputs": [
    {
     "name": "stdout",
     "output_type": "stream",
     "text": [
      "1 9 19 22 "
     ]
    }
   ],
   "source": [
    "# Function \n",
    "# Input : List\n",
    "# Output : Formated Output\n",
    "# Test Case:\n",
    "#[1,6,9,4,16,19,22] -- 1 9 19 22 (If element is surrounded by even numbers print)\n",
    "def plot(x):\n",
    "    for i in range(len(x)):\n",
    "        if i==0 or i==len(x)-1:\n",
    "            print(x[i],end=\" \")\n",
    "        elif x[i-1]%2==0 and x[i+1]%2==0:\n",
    "            print(x[i],end=\" \")\n",
    "    return\n",
    "x=[1,6,9,4,16,19,22]\n",
    "plot(x)"
   ]
  },
  {
   "cell_type": "markdown",
   "metadata": {},
   "source": [
    "### Number to List\n",
    "* Input as Number\n",
    "* Expected Output will be list"
   ]
  },
  {
   "cell_type": "code",
   "execution_count": 51,
   "metadata": {},
   "outputs": [
    {
     "name": "stdout",
     "output_type": "stream",
     "text": [
      "enter a number81\n"
     ]
    },
    {
     "data": {
      "text/plain": [
       "[8, 1]"
      ]
     },
     "execution_count": 51,
     "metadata": {},
     "output_type": "execute_result"
    }
   ],
   "source": [
    "# Function for convertion __ Number to list\n",
    "# Input -- Number\n",
    "# Output -- list\n",
    "# Test case :\n",
    "#14569 -- [1,4,5,6,9]\n",
    "#1990 -- [1,9,9,0]\n",
    "def convert(n):\n",
    "    i=1\n",
    "    s=[]\n",
    "    while n!=0:\n",
    "        r=n%10\n",
    "        s.append(r)\n",
    "        n=n//10\n",
    "        i=i+1\n",
    "    s.reverse()\n",
    "    return s \n",
    "n=int(input(\"enter a number\"))\n",
    "convert(n)"
   ]
  },
  {
   "cell_type": "code",
   "execution_count": 61,
   "metadata": {},
   "outputs": [
    {
     "name": "stdout",
     "output_type": "stream",
     "text": [
      "enter a string-rockk\n",
      "enter target element-k\n"
     ]
    },
    {
     "data": {
      "text/plain": [
       "2"
      ]
     },
     "execution_count": 61,
     "metadata": {},
     "output_type": "execute_result"
    }
   ],
   "source": [
    "#*** Function to count the occurances of a character in a string\n",
    "def repeat(x,target):\n",
    "    c=0\n",
    "    for i in x:\n",
    "        if i==target:\n",
    "            c+=1\n",
    "    return c\n",
    "# (OR)\n",
    "#def repeat1(x,target):\n",
    "#    return x.count(target)\n",
    "n=str(input(\"enter a string-\"))\n",
    "m=str(input(\"enter target element-\"))\n",
    "repeat(n,m) "
   ]
  },
  {
   "cell_type": "code",
   "execution_count": 65,
   "metadata": {},
   "outputs": [
    {
     "data": {
      "text/plain": [
       "[1, 2, 3, 4, 5, 6]"
      ]
     },
     "execution_count": 65,
     "metadata": {},
     "output_type": "execute_result"
    }
   ],
   "source": [
    "# Function to convert string to list\n",
    "# Test case:\n",
    "# \"1 2 3 4 5 6\"--[1,2,3,4,5,6]\n",
    "def convert(s):\n",
    "    x=s.split() # Splits the string\n",
    "    numlist=[]\n",
    "    for i in x:\n",
    "        numlist.append(int(i))\n",
    "    return numlist\n",
    "s='1 2 3 4 5 6'\n",
    "convert(s)"
   ]
  },
  {
   "cell_type": "markdown",
   "metadata": {},
   "source": [
    "## Sorting Algorithm\n",
    "  * All the sorting algorithms makes the list into ascending order\n",
    "     - Bubble Sort\n",
    "     - Selection Sort\n",
    "     - Insertion Sort"
   ]
  },
  {
   "cell_type": "markdown",
   "metadata": {},
   "source": [
    "### Bubble Sort\n",
    "* This algorithm compares the adjacent elements, if the first element is greater than second element then its required to swap the elements"
   ]
  },
  {
   "cell_type": "code",
   "execution_count": 70,
   "metadata": {},
   "outputs": [
    {
     "data": {
      "text/plain": [
       "[24, 25, 46, 532]"
      ]
     },
     "execution_count": 70,
     "metadata": {},
     "output_type": "execute_result"
    }
   ],
   "source": [
    "# Function to represent the Bubble Sort\n",
    "def bubbleSort(s):\n",
    "    for j in range(len(s)-1):\n",
    "        for i in range (len(s)-1):\n",
    "            if s[i] > s[i+1]:\n",
    "                s[i],s[i+1]=s[i+1],s[i]\n",
    "    return s\n",
    "s=[24,46,25,532]\n",
    "bubbleSort(s)"
   ]
  },
  {
   "cell_type": "markdown",
   "metadata": {},
   "source": [
    "### Dictionaries\n",
    "* It works on the concept of Set Unique Data\n",
    "* Keys , Values is the unique identifier for a value\n",
    "* Each key is seperated fron its values with colon (:)\n",
    "* Each key and value is seperated by comma (,)\n",
    "* Dictionaries enclosed with curly braces \"{}\""
   ]
  },
  {
   "cell_type": "code",
   "execution_count": 7,
   "metadata": {},
   "outputs": [
    {
     "name": "stdout",
     "output_type": "stream",
     "text": [
      "{'Name': 'Eraser', 'Interest': 'Racing', 'Do': 'Race'}\n"
     ]
    }
   ],
   "source": [
    "# exanple:\n",
    "d={\"Name\":\"Eraser\",\"Interest\":\"Racing\",\"Do\":\"Race\"}\n",
    "print(d)"
   ]
  },
  {
   "cell_type": "code",
   "execution_count": 3,
   "metadata": {},
   "outputs": [
    {
     "data": {
      "text/plain": [
       "'Eraser'"
      ]
     },
     "execution_count": 3,
     "metadata": {},
     "output_type": "execute_result"
    }
   ],
   "source": [
    "d[\"Name\"]"
   ]
  },
  {
   "cell_type": "code",
   "execution_count": 5,
   "metadata": {},
   "outputs": [],
   "source": [
    "d[\"Interest\"]=\"Bike Racing\""
   ]
  },
  {
   "cell_type": "code",
   "execution_count": 6,
   "metadata": {},
   "outputs": [
    {
     "data": {
      "text/plain": [
       "'Bike Racing'"
      ]
     },
     "execution_count": 6,
     "metadata": {},
     "output_type": "execute_result"
    }
   ],
   "source": [
    "d[\"Interest\"]"
   ]
  },
  {
   "cell_type": "code",
   "execution_count": 10,
   "metadata": {},
   "outputs": [
    {
     "ename": "KeyError",
     "evalue": "'DO'",
     "output_type": "error",
     "traceback": [
      "\u001b[1;31m---------------------------------------------------------------------------\u001b[0m",
      "\u001b[1;31mKeyError\u001b[0m                                  Traceback (most recent call last)",
      "\u001b[1;32m<ipython-input-10-5627c4a1175c>\u001b[0m in \u001b[0;36m<module>\u001b[1;34m\u001b[0m\n\u001b[1;32m----> 1\u001b[1;33m \u001b[1;32mdel\u001b[0m \u001b[0md\u001b[0m\u001b[1;33m[\u001b[0m\u001b[1;34m\"DO\"\u001b[0m\u001b[1;33m]\u001b[0m\u001b[1;33m\u001b[0m\u001b[1;33m\u001b[0m\u001b[0m\n\u001b[0m",
      "\u001b[1;31mKeyError\u001b[0m: 'DO'"
     ]
    }
   ],
   "source": [
    "del d[\"DO\"]"
   ]
  },
  {
   "cell_type": "code",
   "execution_count": 12,
   "metadata": {},
   "outputs": [],
   "source": [
    "del d[\"Do\"]"
   ]
  },
  {
   "cell_type": "code",
   "execution_count": 14,
   "metadata": {},
   "outputs": [
    {
     "data": {
      "text/plain": [
       "{'Name': 'Eraser', 'Interest': 'Racing'}"
      ]
     },
     "execution_count": 14,
     "metadata": {},
     "output_type": "execute_result"
    }
   ],
   "source": [
    "d # del d --will delete the entire dictionary object"
   ]
  },
  {
   "cell_type": "code",
   "execution_count": 15,
   "metadata": {},
   "outputs": [
    {
     "data": {
      "text/plain": [
       "dict_keys(['Name', 'Interest'])"
      ]
     },
     "execution_count": 15,
     "metadata": {},
     "output_type": "execute_result"
    }
   ],
   "source": [
    "d.keys() # Returns the list of keys"
   ]
  },
  {
   "cell_type": "code",
   "execution_count": 16,
   "metadata": {},
   "outputs": [
    {
     "data": {
      "text/plain": [
       "dict_values(['Eraser', 'Racing'])"
      ]
     },
     "execution_count": 16,
     "metadata": {},
     "output_type": "execute_result"
    }
   ],
   "source": [
    "d.values() # Returns the values"
   ]
  },
  {
   "cell_type": "code",
   "execution_count": 18,
   "metadata": {},
   "outputs": [
    {
     "data": {
      "text/plain": [
       "dict_items([('Name', 'Eraser'), ('Interest', 'Racing')])"
      ]
     },
     "execution_count": 18,
     "metadata": {},
     "output_type": "execute_result"
    }
   ],
   "source": [
    "d.items() # Returns the list of tuples of keys & values"
   ]
  },
  {
   "cell_type": "markdown",
   "metadata": {},
   "source": [
    "### Tuples\n",
    "* t1 parenthesis() li square brackets[]\n",
    "* Difference between Tuple and List\n",
    "    - lists are mutable - can be changed/modified\n",
    "            * Used to access modify,Add, Delete data\n",
    "    - Tuples are immutable - cannot be changed\n",
    "            * Used to data only"
   ]
  },
  {
   "cell_type": "markdown",
   "metadata": {},
   "source": [
    "### Contact Application\n",
    "* Add Contact\n",
    "* Search the Contact\n",
    "* List all contacts\n",
    "     - name1 : phone1\n",
    "     - name2 : phone2\n",
    "* Modify the contact\n",
    "* Remove the contact\n",
    "* Import the contact"
   ]
  },
  {
   "cell_type": "code",
   "execution_count": 24,
   "metadata": {},
   "outputs": [
    {
     "name": "stdout",
     "output_type": "stream",
     "text": [
      "Contact details are added\n",
      "Contact details are added\n",
      "Contact Details already exists\n",
      "Contact details are added\n"
     ]
    }
   ],
   "source": [
    "# Add Contact\n",
    "contact={}   # Creating a dictionary object\n",
    "def addcontact(name,phone):\n",
    "    if name not in contact:\n",
    "        contact[name]=phone\n",
    "        print(\"Contact details are added\")\n",
    "    else:\n",
    "        print(\"Contact Details already exists\")\n",
    "    return\n",
    "addcontact('vamshi','9052780366')\n",
    "addcontact('Someone','9553754259')\n",
    "addcontact('vamshi','9052780366')\n",
    "addcontact('rascal','9052780366')"
   ]
  },
  {
   "cell_type": "code",
   "execution_count": 28,
   "metadata": {},
   "outputs": [
    {
     "name": "stdout",
     "output_type": "stream",
     "text": [
      "vamshi : 9052780366\n",
      "rowdy does not exists\n"
     ]
    }
   ],
   "source": [
    "# To search for contact details\n",
    "def searchContact(name):\n",
    "    if name in contact:\n",
    "        print(name,\":\",contact[name])\n",
    "    else:\n",
    "            print(\"%s does not exists\" % name)\n",
    "    return\n",
    "searchContact('vamshi')\n",
    "searchContact('rowdy')"
   ]
  },
  {
   "cell_type": "code",
   "execution_count": 45,
   "metadata": {},
   "outputs": [
    {
     "name": "stdout",
     "output_type": "stream",
     "text": [
      "2 Contact added succesfully\n"
     ]
    },
    {
     "data": {
      "text/plain": [
       "{'vamshi': '9052780366',\n",
       " 'Someone': '9553754259',\n",
       " 'rascal': '9052780366',\n",
       " 'rock': 563249667,\n",
       " 'Dinesh': 453698369}"
      ]
     },
     "execution_count": 45,
     "metadata": {},
     "output_type": "execute_result"
    }
   ],
   "source": [
    "# Import some contacts\n",
    "# Merge wiyh existing one\n",
    "def importcontact(newContact):\n",
    "    contact.update(newContact)\n",
    "    print(len(newContact.keys()),\"Contact added succesfully\")\n",
    "    return\n",
    "newContact={'Dinesh':453698369,'rock':563249667}\n",
    "importcontact(newContact)\n",
    "contact"
   ]
  },
  {
   "cell_type": "code",
   "execution_count": 46,
   "metadata": {},
   "outputs": [
    {
     "name": "stdout",
     "output_type": "stream",
     "text": [
      "Dinesh deleted successfully\n"
     ]
    },
    {
     "data": {
      "text/plain": [
       "{'vamshi': '9052780366',\n",
       " 'Someone': '9553754259',\n",
       " 'rascal': '9052780366',\n",
       " 'rock': 563249667}"
      ]
     },
     "execution_count": 46,
     "metadata": {},
     "output_type": "execute_result"
    }
   ],
   "source": [
    "# Delete a contact:\n",
    "def delete(name):\n",
    "    if name in contact:\n",
    "        del contact[name]\n",
    "        print(name,\"deleted successfully\")\n",
    "    else:\n",
    "        print(name,\"not exists\")\n",
    "    return\n",
    "delete(\"Dinesh\")\n",
    "contact"
   ]
  },
  {
   "cell_type": "code",
   "execution_count": 47,
   "metadata": {},
   "outputs": [
    {
     "name": "stdout",
     "output_type": "stream",
     "text": [
      "rock Updated successfully\n",
      "rowdy Not Exists\n"
     ]
    },
    {
     "data": {
      "text/plain": [
       "{'vamshi': '9052780366',\n",
       " 'Someone': '9553754259',\n",
       " 'rascal': '9052780366',\n",
       " 'rock': 46646384}"
      ]
     },
     "execution_count": 47,
     "metadata": {},
     "output_type": "execute_result"
    }
   ],
   "source": [
    "# Updating contact details:\n",
    "def update(name,phone):\n",
    "    if name in contact:\n",
    "        contact[name]=phone\n",
    "        print(name,\"Updated successfully\")\n",
    "    else:\n",
    "        print(name,\"Not Exists\")\n",
    "    return\n",
    "update('rock',46646384)\n",
    "update('rowdy',74675682)\n",
    "contact"
   ]
  },
  {
   "cell_type": "markdown",
   "metadata": {},
   "source": [
    "### String functions\n",
    "* upper() - Will converts the given string into upper case\n",
    "* lower() - Will converts the given string into lower case"
   ]
  },
  {
   "cell_type": "code",
   "execution_count": 49,
   "metadata": {},
   "outputs": [
    {
     "name": "stdout",
     "output_type": "stream",
     "text": [
      "GITAM\n",
      "gitam\n"
     ]
    }
   ],
   "source": [
    "s='giTam'\n",
    "print(s.upper())\n",
    "print(s.lower())"
   ]
  },
  {
   "cell_type": "markdown",
   "metadata": {},
   "source": [
    "### Boolean Function (True / False)\n",
    "* islower() -- True if the string is in lower case  / False if the string not in lower\n",
    "* isupper() -- True if the string is in upper case  / False if the string not in upper"
   ]
  },
  {
   "cell_type": "code",
   "execution_count": 51,
   "metadata": {},
   "outputs": [
    {
     "name": "stdout",
     "output_type": "stream",
     "text": [
      "True\n",
      "False\n"
     ]
    }
   ],
   "source": [
    "s='gitam'\n",
    "print(s.islower())\n",
    "print(s.isupper())"
   ]
  },
  {
   "cell_type": "code",
   "execution_count": 52,
   "metadata": {},
   "outputs": [
    {
     "name": "stdout",
     "output_type": "stream",
     "text": [
      "True\n",
      "False\n"
     ]
    }
   ],
   "source": [
    "s1='Python Programming'\n",
    "s2='python Programming'\n",
    "print(s1.istitle())\n",
    "print(s2.istitle())"
   ]
  },
  {
   "cell_type": "code",
   "execution_count": 53,
   "metadata": {},
   "outputs": [
    {
     "name": "stdout",
     "output_type": "stream",
     "text": [
      "False\n",
      "True\n"
     ]
    }
   ],
   "source": [
    "s1='Application23435'\n",
    "s2='PythonProgramming'\n",
    "print(s1.isalpha())\n",
    "print(s2.isalpha())"
   ]
  },
  {
   "cell_type": "code",
   "execution_count": 54,
   "metadata": {},
   "outputs": [
    {
     "name": "stdout",
     "output_type": "stream",
     "text": [
      "True\n",
      "False\n"
     ]
    }
   ],
   "source": [
    "s1=\" \"\n",
    "s2=\"py u yh\"\n",
    "print(s1.isspace())\n",
    "print(s2.isspace())"
   ]
  },
  {
   "cell_type": "code",
   "execution_count": 55,
   "metadata": {},
   "outputs": [
    {
     "name": "stdout",
     "output_type": "stream",
     "text": [
      "P y t h o n\n"
     ]
    }
   ],
   "source": [
    "s1='Python'\n",
    "print(\" \".join(s1))"
   ]
  },
  {
   "cell_type": "code",
   "execution_count": 56,
   "metadata": {},
   "outputs": [
    {
     "name": "stdout",
     "output_type": "stream",
     "text": [
      "python,some,shoot\n"
     ]
    }
   ],
   "source": [
    "s=['python','some','shoot']\n",
    "print(\",\".join(s))"
   ]
  },
  {
   "cell_type": "markdown",
   "metadata": {},
   "source": [
    "### String Methods\n",
    "* join()\n",
    "* split()\n",
    "* replace() -- replaces a word or anything"
   ]
  },
  {
   "cell_type": "code",
   "execution_count": 58,
   "metadata": {},
   "outputs": [
    {
     "name": "stdout",
     "output_type": "stream",
     "text": [
      "['pyton', 'program', 'done']\n"
     ]
    }
   ],
   "source": [
    "s1=\"pyton program done\"\n",
    "print(s1.split())"
   ]
  },
  {
   "cell_type": "code",
   "execution_count": 59,
   "metadata": {},
   "outputs": [
    {
     "name": "stdout",
     "output_type": "stream",
     "text": [
      "['pyton', 'program', 'done']\n",
      "3\n"
     ]
    }
   ],
   "source": [
    "li=s1.split()\n",
    "print(li)\n",
    "print(len(li))"
   ]
  },
  {
   "cell_type": "code",
   "execution_count": 60,
   "metadata": {},
   "outputs": [
    {
     "name": "stdout",
     "output_type": "stream",
     "text": [
      "['p', 'y', 't', 'o', 'n', ' ', 'p', 'r', 'o', 'g', 'r', 'a', 'm', ' ', 'd', 'o', 'n', 'e']\n"
     ]
    }
   ],
   "source": [
    "s1=\"pyton program done\"\n",
    "li=list(s1)\n",
    "print(li)"
   ]
  },
  {
   "cell_type": "code",
   "execution_count": 61,
   "metadata": {},
   "outputs": [
    {
     "name": "stdout",
     "output_type": "stream",
     "text": [
      "python PROgramming\n"
     ]
    }
   ],
   "source": [
    "s2='python programming'\n",
    "print(s2.replace('pro','PRO'))"
   ]
  },
  {
   "cell_type": "markdown",
   "metadata": {},
   "source": [
    "### String Formatting\n",
    "   * Classical Version # Similar to C\n",
    "   * Current version"
   ]
  },
  {
   "cell_type": "code",
   "execution_count": 4,
   "metadata": {},
   "outputs": [
    {
     "name": "stdout",
     "output_type": "stream",
     "text": [
      "Python Programing\n"
     ]
    }
   ],
   "source": [
    "# Classical version\n",
    "s=[\"Python\",\"Programing\"]\n",
    "print(\"%s %s\"%(s[0],s[1]))"
   ]
  },
  {
   "cell_type": "code",
   "execution_count": 7,
   "metadata": {},
   "outputs": [
    {
     "name": "stdout",
     "output_type": "stream",
     "text": [
      "Python Programing\n"
     ]
    }
   ],
   "source": [
    "# Current Version\n",
    "print(\"{0} {1}\".format(s[0],s[1]))"
   ]
  },
  {
   "cell_type": "code",
   "execution_count": 8,
   "metadata": {},
   "outputs": [
    {
     "name": "stdout",
     "output_type": "stream",
     "text": [
      "1 2 3 4\n"
     ]
    }
   ],
   "source": [
    "s1=[1,2,3,4]\n",
    "print(\"%d %d %d %d\"%(s1[0],s1[1],s1[2],s1[3]))"
   ]
  },
  {
   "cell_type": "code",
   "execution_count": 10,
   "metadata": {},
   "outputs": [
    {
     "name": "stdout",
     "output_type": "stream",
     "text": [
      "1 2 3 4\n"
     ]
    }
   ],
   "source": [
    "print(\"{0} {1} {2} {3}\".format(s1[0],s1[1],s1[2],s1[3]))"
   ]
  },
  {
   "cell_type": "code",
   "execution_count": 62,
   "metadata": {},
   "outputs": [
    {
     "data": {
      "text/plain": [
       "123"
      ]
     },
     "execution_count": 62,
     "metadata": {},
     "output_type": "execute_result"
    }
   ],
   "source": [
    "# import external packages to python files\n",
    "import math\n",
    "math.floor(123.456)"
   ]
  },
  {
   "cell_type": "code",
   "execution_count": 63,
   "metadata": {},
   "outputs": [
    {
     "data": {
      "text/plain": [
       "24"
      ]
     },
     "execution_count": 63,
     "metadata": {},
     "output_type": "execute_result"
    }
   ],
   "source": [
    "from math import factorial as fact\n",
    "fact(4)"
   ]
  },
  {
   "cell_type": "markdown",
   "metadata": {},
   "source": [
    "### Standard Libraries\n",
    "* File I/O\n",
    "* Regular Expression\n",
    "* Datetime\n",
    "* Math (numerical & Mathematical)"
   ]
  },
  {
   "cell_type": "markdown",
   "metadata": {},
   "source": [
    "#### File Handling in Python:\n",
    "###### Write,Read.Analysis -- Data Science and Analysis\n",
    "* File:- Document containing information resides on the permanent storage\n",
    "* Different typesof files: txt,doc,pdf,csv,.....\n",
    "* Input -- Keyboard\n",
    "* Output -- File\n",
    "##### Modes of Files I/O\n",
    "- 'w'--This mode is used to file writing\n",
    "        * If the file is not present it creates the file & write data to it.\n",
    "        * If the file already present it will rewrite the previous content\n",
    "- 'a' -- append\n",
    "- 'r' -- read"
   ]
  },
  {
   "cell_type": "code",
   "execution_count": 1,
   "metadata": {},
   "outputs": [
    {
     "name": "stdout",
     "output_type": "stream",
     "text": [
      "File is created and data is written\n"
     ]
    }
   ],
   "source": [
    "# Function to create a file and write to the file\n",
    "def createfile(filename):\n",
    "    f=open(filename,'w')\n",
    "    for i in range (10):\n",
    "        f.write('this is %d line' %i)\n",
    "    print(\"File is created and data is written\")\n",
    "    return\n",
    "createfile('ItsOver')"
   ]
  },
  {
   "cell_type": "code",
   "execution_count": 5,
   "metadata": {},
   "outputs": [
    {
     "name": "stdout",
     "output_type": "stream",
     "text": [
      " Volume in drive C has no label.\n",
      " Volume Serial Number is 5E67-A6D6\n",
      "\n",
      " Directory of C:\\Users\\mpilab\n",
      "\n",
      "11-07-2019  09:33    <DIR>          .\n",
      "11-07-2019  09:33    <DIR>          ..\n",
      "14-06-2019  10:15    <DIR>          .anaconda\n",
      "06-07-2019  10:29             3,065 .bash_history\n",
      "22-06-2019  15:24    <DIR>          .conda\n",
      "22-06-2019  14:31                43 .condarc\n",
      "06-07-2019  09:48                23 .gitconfig\n",
      "30-06-2019  12:24    <DIR>          .idlerc\n",
      "10-07-2019  10:44    <DIR>          .ipynb_checkpoints\n",
      "14-06-2019  10:53    <DIR>          .ipython\n",
      "14-06-2019  10:54    <DIR>          .jupyter\n",
      "14-06-2019  10:10    <DIR>          Anaconda3\n",
      "10-07-2019  16:20            11,819 Asg_Day9.ipynb\n",
      "09-07-2019  17:29             2,944 Assignment.ipynb\n",
      "17-07-2018  12:23               355 Computer - Shortcut.lnk\n",
      "19-06-2018  13:53    <DIR>          Contacts\n",
      "11-07-2019  09:21    <DIR>          Desktop\n",
      "10-07-2019  10:44    <DIR>          Documents\n",
      "10-07-2019  16:34    <DIR>          Downloads\n",
      "19-06-2018  13:53    <DIR>          Favorites\n",
      "11-07-2019  09:31               140 ItsOver\n",
      "23-03-2019  11:27               320 led1\n",
      "23-03-2019  11:27                14 led1.asm\n",
      "19-06-2018  13:53    <DIR>          Links\n",
      "16-02-2019  11:04               151 mpi1.asm\n",
      "16-02-2019  11:00               138 mpi1.masm\n",
      "19-06-2018  13:53    <DIR>          Music\n",
      "04-07-2018  15:19    <DIR>          Pictures\n",
      "11-07-2019  09:33            58,911 Python.ipynb\n",
      "19-06-2018  13:53    <DIR>          Saved Games\n",
      "19-06-2018  13:53    <DIR>          Searches\n",
      "19-03-2019  15:03               194 ts.asm\n",
      "14-06-2019  10:53                72 Untitled.ipynb\n",
      "14-06-2019  10:54                72 Untitled1.ipynb\n",
      "22-06-2019  15:12                72 Untitled2.ipynb\n",
      "22-06-2019  15:16               555 Untitled3.ipynb\n",
      "19-06-2018  13:53    <DIR>          Videos\n",
      "02-08-2018  10:03    <DIR>          Xilinx\n",
      "              17 File(s)         78,888 bytes\n",
      "              21 Dir(s)  122,004,955,136 bytes free\n"
     ]
    }
   ],
   "source": [
    "ls"
   ]
  },
  {
   "cell_type": "code",
   "execution_count": 12,
   "metadata": {},
   "outputs": [
    {
     "name": "stdout",
     "output_type": "stream",
     "text": [
      "File is created and data is written\n"
     ]
    }
   ],
   "source": [
    "def createfile(filename):\n",
    "    f=open(filename,'w')\n",
    "    f.write('Testing...\\n')\n",
    "    print(\"File is created and data is written\")\n",
    "    return\n",
    "createfile('ItsOver')"
   ]
  },
  {
   "cell_type": "code",
   "execution_count": 13,
   "metadata": {},
   "outputs": [
    {
     "name": "stdout",
     "output_type": "stream",
     "text": [
      "File created & Successfully data was written\n"
     ]
    }
   ],
   "source": [
    "def appendData(filename):\n",
    "    f=open(filename,'a')\n",
    "    for i in range(10):\n",
    "        f.write(\"this is %d Line\\n\"%i)\n",
    "    print(\"File created & Successfully data was written\")\n",
    "    return\n",
    "appendData('ItsOver1') "
   ]
  },
  {
   "cell_type": "code",
   "execution_count": 15,
   "metadata": {},
   "outputs": [
    {
     "name": "stdout",
     "output_type": "stream",
     "text": [
      "File is created & Data was Written\n"
     ]
    }
   ],
   "source": [
    "def appendData(filename):\n",
    "    f=open(filename,'a')\n",
    "    f.write(\"New Line 1\\n\")\n",
    "    f.write(\"New Line 2\\n\")\n",
    "    print(\"File is created & Data was Written\")\n",
    "    return\n",
    "appendData('ItsOver1') "
   ]
  },
  {
   "cell_type": "code",
   "execution_count": 19,
   "metadata": {},
   "outputs": [
    {
     "name": "stdout",
     "output_type": "stream",
     "text": [
      "this is 0 Line\n",
      "this is 1 Line\n",
      "this is 2 Line\n",
      "this is 3 Line\n",
      "this is 4 Line\n",
      "this is 5 Line\n",
      "this is 6 Line\n",
      "this is 7 Line\n",
      "this is 8 Line\n",
      "this is 9 Line\n",
      "New Line 1\n",
      "New Line 2\n",
      "\n"
     ]
    }
   ],
   "source": [
    "# Function to read the file\n",
    "def readfile(filename):\n",
    "    f=open(filename,'r')\n",
    "    if f.mode=='r':\n",
    "        x=f.read()\n",
    "        print(x)\n",
    "    f.close()\n",
    "    return\n",
    "readfile('ItsOver1')"
   ]
  },
  {
   "cell_type": "code",
   "execution_count": 21,
   "metadata": {},
   "outputs": [
    {
     "name": "stdout",
     "output_type": "stream",
     "text": [
      "enter the file name\n",
      "ItsOver1\n",
      "enter the mode of the file\n",
      "r\n",
      "this is 0 Line\n",
      "this is 1 Line\n",
      "this is 2 Line\n",
      "this is 3 Line\n",
      "this is 4 Line\n",
      "this is 5 Line\n",
      "this is 6 Line\n",
      "this is 7 Line\n",
      "this is 8 Line\n",
      "this is 9 Line\n",
      "New Line 1\n",
      "New Line 2\n",
      "\n"
     ]
    }
   ],
   "source": [
    "# Function to read the File\n",
    "def Operation(filename,mode):\n",
    "    with open(filename,mode)as f:\n",
    "        if f.mode=='r':\n",
    "            data =f.read()\n",
    "            print(data)\n",
    "        elif f.mode=='a':\n",
    "            f.write(\"Adding Data\")\n",
    "            print(\"Data is successfully Operated\")\n",
    "    f.close()    \n",
    "    return\n",
    "filename=input('enter the file name\\n')\n",
    "mode=input('enter the mode of the file\\n')\n",
    "Operation(filename,mode)"
   ]
  },
  {
   "cell_type": "code",
   "execution_count": 25,
   "metadata": {},
   "outputs": [
    {
     "data": {
      "text/plain": [
       "12"
      ]
     },
     "execution_count": 25,
     "metadata": {},
     "output_type": "execute_result"
    }
   ],
   "source": [
    "# Data Analysis\n",
    "#Word Count Program\n",
    "def wordcount(filename,word):\n",
    "    with open(filename,'r')as f:\n",
    "        if f.mode=='r':\n",
    "            x=f.read()\n",
    "            li=x.split() # It splits the string with white spaces\n",
    "    cnt=li.count(word)\n",
    "    return cnt\n",
    "wordcount('ItsOver1','Line')"
   ]
  },
  {
   "cell_type": "code",
   "execution_count": null,
   "metadata": {},
   "outputs": [],
   "source": [
    "def Operation(filename,mode):\n",
    "    with open(filename,mode)as f:\n",
    "        if f.mode=='r':\n",
    "            data =f.read()\n",
    "            print(data)\n",
    "        elif f.mode=='a':\n",
    "            f.write(\"Adding Data\")\n",
    "            print(\"Data is successfully added\")\n",
    "    f.close()    \n",
    "    return\n",
    "filename=input('enter the file name\\n')\n",
    "mode=input('enter the mode of the file\\n')\n",
    "Operation(filename,mode)"
   ]
  },
  {
   "cell_type": "code",
   "execution_count": 4,
   "metadata": {},
   "outputs": [
    {
     "data": {
      "text/plain": [
       "22"
      ]
     },
     "execution_count": 4,
     "metadata": {},
     "output_type": "execute_result"
    }
   ],
   "source": [
    "# Character count from given file\n",
    "def wordcount(filename):\n",
    "    with open(filename,'r')as f:\n",
    "        if f.mode=='r':\n",
    "            x=f.read()\n",
    "            li=list(x)\n",
    "    return len(li)\n",
    "wordcount('ItsOver')"
   ]
  },
  {
   "cell_type": "code",
   "execution_count": 7,
   "metadata": {},
   "outputs": [
    {
     "name": "stdout",
     "output_type": "stream",
     "text": [
      "['python', 'programming']\n",
      "['p', 'y', 't', 'h', 'o', 'n', ' ', 'p', 'r', 'o', 'g', 'r', 'a', 'm', 'm', 'i', 'n', 'g']\n"
     ]
    }
   ],
   "source": [
    "# EXPLANATION\n",
    "s=\"python programming\"\n",
    "print(s.split())\n",
    "print (list(s))"
   ]
  },
  {
   "cell_type": "code",
   "execution_count": 12,
   "metadata": {},
   "outputs": [
    {
     "name": "stdout",
     "output_type": "stream",
     "text": [
      "enter file name: ItsOver\n"
     ]
    },
    {
     "data": {
      "text/plain": [
       "2"
      ]
     },
     "execution_count": 12,
     "metadata": {},
     "output_type": "execute_result"
    }
   ],
   "source": [
    "# Function to find the no of lines in the file\n",
    "def countlines(filename):\n",
    "    with open(filename,'r')as f:\n",
    "        if f.mode==\"r\":\n",
    "            x=f.read()\n",
    "            li=x.split(\"\\n\")\n",
    "    return len(li)\n",
    "filename=input('enter file name: ')\n",
    "countlines(filename)"
   ]
  },
  {
   "cell_type": "code",
   "execution_count": 15,
   "metadata": {},
   "outputs": [
    {
     "name": "stdout",
     "output_type": "stream",
     "text": [
      "enter file name ItsOver\n"
     ]
    },
    {
     "data": {
      "text/plain": [
       "'Upper Case = 3, Lower Case = 14'"
      ]
     },
     "execution_count": 15,
     "metadata": {},
     "output_type": "execute_result"
    }
   ],
   "source": [
    "# Function to print the uper ANd lower characters\n",
    "def casecount(filename):\n",
    "    cntUpper=0\n",
    "    cntLower=0\n",
    "    with open(filename,'r')as f:\n",
    "        if f.mode=='r':\n",
    "            x=f.read()\n",
    "            s=list(x)\n",
    "    for i in s:\n",
    "        if i.isupper():\n",
    "            cntUpper +=1\n",
    "        elif i.islower():\n",
    "            cntLower +=1\n",
    "    output='Upper Case = {0}, Lower Case = {1}'.format(cntUpper,cntLower)\n",
    "    return output\n",
    "filename=input('enter file name ')\n",
    "casecount(filename)"
   ]
  },
  {
   "cell_type": "markdown",
   "metadata": {},
   "source": [
    "### math, random, os\n",
    "- os package it contains certain methods which works with os"
   ]
  },
  {
   "cell_type": "code",
   "execution_count": 25,
   "metadata": {},
   "outputs": [
    {
     "name": "stdout",
     "output_type": "stream",
     "text": [
      " Volume in drive C has no label.\n",
      " Volume Serial Number is 5E67-A6D6\n",
      "\n",
      " Directory of C:\\Users\\mpilab\n",
      "\n",
      "11-07-2019  14:37    <DIR>          .\n",
      "11-07-2019  14:37    <DIR>          ..\n",
      "14-06-2019  10:15    <DIR>          .anaconda\n",
      "06-07-2019  10:29             3,065 .bash_history\n",
      "22-06-2019  15:24    <DIR>          .conda\n",
      "22-06-2019  14:31                43 .condarc\n",
      "06-07-2019  09:48                23 .gitconfig\n",
      "30-06-2019  12:24    <DIR>          .idlerc\n",
      "10-07-2019  10:44    <DIR>          .ipynb_checkpoints\n",
      "14-06-2019  10:53    <DIR>          .ipython\n",
      "14-06-2019  10:54    <DIR>          .jupyter\n",
      "14-06-2019  10:10    <DIR>          Anaconda3\n",
      "10-07-2019  16:20            11,819 Asg_Day9.ipynb\n",
      "09-07-2019  17:29             2,944 Assignment.ipynb\n",
      "17-07-2018  12:23               355 Computer - Shortcut.lnk\n",
      "19-06-2018  13:53    <DIR>          Contacts\n",
      "11-07-2019  14:35    <DIR>          Desktop\n",
      "10-07-2019  10:44    <DIR>          Documents\n",
      "10-07-2019  16:34    <DIR>          Downloads\n",
      "19-06-2018  13:53    <DIR>          Favorites\n",
      "11-07-2019  10:21                23 ItsOver\n",
      "11-07-2019  10:05               184 ItsOver1\n",
      "23-03-2019  11:27               320 led1\n",
      "23-03-2019  11:27                14 led1.asm\n",
      "19-06-2018  13:53    <DIR>          Links\n",
      "16-02-2019  11:04               151 mpi1.asm\n",
      "16-02-2019  11:00               138 mpi1.masm\n",
      "19-06-2018  13:53    <DIR>          Music\n",
      "04-07-2018  15:19    <DIR>          Pictures\n",
      "11-07-2019  14:37            86,116 Python.ipynb\n",
      "19-06-2018  13:53    <DIR>          Saved Games\n",
      "19-06-2018  13:53    <DIR>          Searches\n",
      "19-03-2019  15:03               194 ts.asm\n",
      "14-06-2019  10:53                72 Untitled.ipynb\n",
      "14-06-2019  10:54                72 Untitled1.ipynb\n",
      "22-06-2019  15:12                72 Untitled2.ipynb\n",
      "22-06-2019  15:16               555 Untitled3.ipynb\n",
      "19-06-2018  13:53    <DIR>          Videos\n",
      "02-08-2018  10:03    <DIR>          Xilinx\n",
      "              18 File(s)        106,160 bytes\n",
      "              21 Dir(s)  121,931,051,008 bytes free\n"
     ]
    }
   ],
   "source": [
    "ls"
   ]
  },
  {
   "cell_type": "code",
   "execution_count": 12,
   "metadata": {},
   "outputs": [
    {
     "name": "stdout",
     "output_type": "stream",
     "text": [
      "C:\\Users\\mpilab\\desktop\n"
     ]
    }
   ],
   "source": [
    "cd desktop\n"
   ]
  },
  {
   "cell_type": "code",
   "execution_count": 18,
   "metadata": {},
   "outputs": [
    {
     "name": "stdout",
     "output_type": "stream",
     "text": [
      "C:\\Users\\mpilab\\desktop\\desktop\\programming\n"
     ]
    }
   ],
   "source": [
    "cd desktop\\programming"
   ]
  },
  {
   "cell_type": "code",
   "execution_count": 13,
   "metadata": {},
   "outputs": [
    {
     "name": "stdout",
     "output_type": "stream",
     "text": [
      " Volume in drive C has no label.\n",
      " Volume Serial Number is 5E67-A6D6\n",
      "\n",
      " Directory of C:\\Users\\mpilab\n",
      "\n",
      "11-07-2019  14:25    <DIR>          .\n",
      "11-07-2019  14:25    <DIR>          ..\n",
      "14-06-2019  10:15    <DIR>          .anaconda\n",
      "06-07-2019  10:29             3,065 .bash_history\n",
      "22-06-2019  15:24    <DIR>          .conda\n",
      "22-06-2019  14:31                43 .condarc\n",
      "06-07-2019  09:48                23 .gitconfig\n",
      "30-06-2019  12:24    <DIR>          .idlerc\n",
      "10-07-2019  10:44    <DIR>          .ipynb_checkpoints\n",
      "14-06-2019  10:53    <DIR>          .ipython\n",
      "14-06-2019  10:54    <DIR>          .jupyter\n",
      "14-06-2019  10:10    <DIR>          Anaconda3\n",
      "10-07-2019  16:20            11,819 Asg_Day9.ipynb\n",
      "09-07-2019  17:29             2,944 Assignment.ipynb\n",
      "17-07-2018  12:23               355 Computer - Shortcut.lnk\n",
      "19-06-2018  13:53    <DIR>          Contacts\n",
      "11-07-2019  14:24    <DIR>          Desktop\n",
      "10-07-2019  10:44    <DIR>          Documents\n",
      "10-07-2019  16:34    <DIR>          Downloads\n",
      "19-06-2018  13:53    <DIR>          Favorites\n",
      "11-07-2019  10:21                23 ItsOver\n",
      "11-07-2019  10:05               184 ItsOver1\n",
      "23-03-2019  11:27               320 led1\n",
      "23-03-2019  11:27                14 led1.asm\n",
      "19-06-2018  13:53    <DIR>          Links\n",
      "16-02-2019  11:04               151 mpi1.asm\n",
      "16-02-2019  11:00               138 mpi1.masm\n",
      "19-06-2018  13:53    <DIR>          Music\n",
      "04-07-2018  15:19    <DIR>          Pictures\n",
      "11-07-2019  14:25            79,998 Python.ipynb\n",
      "19-06-2018  13:53    <DIR>          Saved Games\n",
      "19-06-2018  13:53    <DIR>          Searches\n",
      "19-03-2019  15:03               194 ts.asm\n",
      "14-06-2019  10:53                72 Untitled.ipynb\n",
      "14-06-2019  10:54                72 Untitled1.ipynb\n",
      "22-06-2019  15:12                72 Untitled2.ipynb\n",
      "22-06-2019  15:16               555 Untitled3.ipynb\n",
      "19-06-2018  13:53    <DIR>          Videos\n",
      "02-08-2018  10:03    <DIR>          Xilinx\n",
      "              18 File(s)        100,042 bytes\n",
      "              21 Dir(s)  121,934,053,376 bytes free\n"
     ]
    }
   ],
   "source": [
    "ls\n"
   ]
  },
  {
   "cell_type": "code",
   "execution_count": 24,
   "metadata": {},
   "outputs": [
    {
     "data": {
      "text/plain": [
       "['.git', 'mouse.txt', 'test']"
      ]
     },
     "execution_count": 24,
     "metadata": {},
     "output_type": "execute_result"
    }
   ],
   "source": [
    "import os\n",
    "os.listdir('git/')"
   ]
  },
  {
   "cell_type": "markdown",
   "metadata": {},
   "source": [
    "* Old version python -- os.listdir()\n",
    "* New version python -- os.scandir() and pathlib.Path()"
   ]
  },
  {
   "cell_type": "code",
   "execution_count": 62,
   "metadata": {},
   "outputs": [
    {
     "name": "stdout",
     "output_type": "stream",
     "text": [
      "<DirEntry '.git'>\n",
      "<DirEntry 'mouse.txt'>\n",
      "<DirEntry 'test'>\n"
     ]
    }
   ],
   "source": [
    "li=os.scandir('git/')\n",
    "for i in li:\n",
    "    print(i)"
   ]
  },
  {
   "cell_type": "code",
   "execution_count": 27,
   "metadata": {},
   "outputs": [
    {
     "name": "stdout",
     "output_type": "stream",
     "text": [
      ".git\n",
      "mouse.txt\n",
      "test\n"
     ]
    }
   ],
   "source": [
    "from pathlib import Path\n",
    "li=Path('git/')\n",
    "for i in li.iterdir():\n",
    "    print(i.name)"
   ]
  },
  {
   "cell_type": "code",
   "execution_count": 28,
   "metadata": {},
   "outputs": [
    {
     "name": "stdout",
     "output_type": "stream",
     "text": [
      " Volume in drive C has no label.\n",
      " Volume Serial Number is 5E67-A6D6\n",
      "\n",
      " Directory of C:\\Users\\mpilab\\desktop\\desktop\\programming\n",
      "\n",
      "05-07-2019  10:25    <DIR>          .\n",
      "05-07-2019  10:25    <DIR>          ..\n",
      "05-07-2019  14:52    <DIR>          git\n",
      "               0 File(s)              0 bytes\n",
      "               3 Dir(s)  121,875,722,240 bytes free\n"
     ]
    }
   ],
   "source": [
    "ls"
   ]
  },
  {
   "cell_type": "code",
   "execution_count": 19,
   "metadata": {},
   "outputs": [
    {
     "name": "stdout",
     "output_type": "stream",
     "text": [
      "mouse.txt\n"
     ]
    }
   ],
   "source": [
    "import os \n",
    "dirPath = \"git/\"\n",
    "for i in os.listdir(dirPath): # All files and folders\n",
    "    if os.path.isfile(os.path.join(dirPath,i)):\n",
    "        print(i)"
   ]
  },
  {
   "cell_type": "code",
   "execution_count": 20,
   "metadata": {},
   "outputs": [
    {
     "name": "stdout",
     "output_type": "stream",
     "text": [
      "mouse.txt\n"
     ]
    }
   ],
   "source": [
    "dirPath='git/'\n",
    "with os.scandir(dirPath)as f:\n",
    "    for i in f:\n",
    "        if i.is_file():\n",
    "            print(i.name)"
   ]
  },
  {
   "cell_type": "markdown",
   "metadata": {},
   "source": [
    "### Listing SubDirectories"
   ]
  },
  {
   "cell_type": "code",
   "execution_count": 34,
   "metadata": {},
   "outputs": [
    {
     "name": "stdout",
     "output_type": "stream",
     "text": [
      ".git\n",
      "test\n"
     ]
    }
   ],
   "source": [
    "dirPath='git/'\n",
    "for i in os.listdir(dirPath):\n",
    "    if os.path.isdir(os.path.join(dirPath,i)):\n",
    "        print(i)"
   ]
  },
  {
   "cell_type": "code",
   "execution_count": 35,
   "metadata": {
    "scrolled": true
   },
   "outputs": [
    {
     "name": "stdout",
     "output_type": "stream",
     "text": [
      ".git\n",
      "test\n"
     ]
    }
   ],
   "source": [
    "from pathlib import Path\n",
    "dirPath=Path('git/')\n",
    "for i in dirPath.iterdir():\n",
    "    if i.is_dir():\n",
    "        print(i.name)"
   ]
  },
  {
   "cell_type": "markdown",
   "metadata": {},
   "source": [
    "### Creating a Single Directory"
   ]
  },
  {
   "cell_type": "code",
   "execution_count": 61,
   "metadata": {},
   "outputs": [],
   "source": [
    "import os\n",
    "os.mkdir('single directory')"
   ]
  },
  {
   "cell_type": "code",
   "execution_count": 24,
   "metadata": {},
   "outputs": [],
   "source": [
    "import pathlib\n",
    "p=pathlib.Path('TestFolder')\n",
    "p.mkdir()"
   ]
  },
  {
   "cell_type": "code",
   "execution_count": 25,
   "metadata": {
    "scrolled": true
   },
   "outputs": [
    {
     "name": "stdout",
     "output_type": "stream",
     "text": [
      " Volume in drive C has no label.\n",
      " Volume Serial Number is 5E67-A6D6\n",
      "\n",
      " Directory of C:\\Users\\mpilab\\desktop\\desktop\\programming\n",
      "\n",
      "11-07-2019  14:48    <DIR>          .\n",
      "11-07-2019  14:48    <DIR>          ..\n",
      "05-07-2019  14:52    <DIR>          git\n",
      "11-07-2019  14:47    <DIR>          single directory\n",
      "11-07-2019  14:48    <DIR>          TestFolder\n",
      "               0 File(s)              0 bytes\n",
      "               5 Dir(s)  121,928,753,152 bytes free\n"
     ]
    }
   ],
   "source": [
    "ls"
   ]
  },
  {
   "cell_type": "markdown",
   "metadata": {},
   "source": [
    "### Creating Multiple Directory"
   ]
  },
  {
   "cell_type": "code",
   "execution_count": 60,
   "metadata": {},
   "outputs": [],
   "source": [
    "import os\n",
    "os.makedirs('2019/july/11/Thursday')"
   ]
  },
  {
   "cell_type": "code",
   "execution_count": 27,
   "metadata": {
    "scrolled": true
   },
   "outputs": [
    {
     "name": "stdout",
     "output_type": "stream",
     "text": [
      " Volume in drive C has no label.\n",
      " Volume Serial Number is 5E67-A6D6\n",
      "\n",
      " Directory of C:\\Users\\mpilab\\desktop\\desktop\\programming\n",
      "\n",
      "11-07-2019  15:00    <DIR>          .\n",
      "11-07-2019  15:00    <DIR>          ..\n",
      "11-07-2019  15:00    <DIR>          2019\n",
      "05-07-2019  14:52    <DIR>          git\n",
      "11-07-2019  14:47    <DIR>          single directory\n",
      "11-07-2019  14:48    <DIR>          TestFolder\n",
      "               0 File(s)              0 bytes\n",
      "               6 Dir(s)  121,927,196,672 bytes free\n"
     ]
    }
   ],
   "source": [
    "ls"
   ]
  },
  {
   "cell_type": "code",
   "execution_count": 28,
   "metadata": {},
   "outputs": [
    {
     "data": {
      "text/plain": [
       "'C:\\\\Users\\\\mpilab\\\\desktop\\\\desktop\\\\programming'"
      ]
     },
     "execution_count": 28,
     "metadata": {},
     "output_type": "execute_result"
    }
   ],
   "source": [
    "pwd"
   ]
  },
  {
   "cell_type": "code",
   "execution_count": 37,
   "metadata": {},
   "outputs": [],
   "source": [
    "import os\n",
    "dirPath='git/'\n",
    "for f_name in os.listdir(dirPath):\n",
    "    if f_name.endswith('ipynb'):\n",
    "        print(f_name)"
   ]
  },
  {
   "cell_type": "code",
   "execution_count": 56,
   "metadata": {},
   "outputs": [],
   "source": [
    "import os\n",
    "dirPath='git/'\n",
    "for f_name in os.listdir(dirPath):\n",
    "    if f_name.startswith('ipynb'):\n",
    "        print(f_name)"
   ]
  },
  {
   "cell_type": "code",
   "execution_count": 46,
   "metadata": {},
   "outputs": [
    {
     "name": "stdout",
     "output_type": "stream",
     "text": [
      " Volume in drive C has no label.\n",
      " Volume Serial Number is 5E67-A6D6\n",
      "\n",
      " Directory of C:\\Users\\mpilab\\desktop\\desktop\\programming\\2019\n",
      "\n",
      "11-07-2019  15:00    <DIR>          .\n",
      "11-07-2019  15:00    <DIR>          ..\n",
      "11-07-2019  15:00    <DIR>          july\n",
      "               0 File(s)              0 bytes\n",
      "               3 Dir(s)  121,929,269,248 bytes free\n"
     ]
    }
   ],
   "source": [
    "ls"
   ]
  },
  {
   "cell_type": "markdown",
   "metadata": {},
   "source": [
    "### Deleting Files and Directories"
   ]
  },
  {
   "cell_type": "code",
   "execution_count": 57,
   "metadata": {},
   "outputs": [],
   "source": [
    "import os\n",
    "data_file=\"single directory\"# give the entire path\n",
    "os.rmdir(data_file)"
   ]
  },
  {
   "cell_type": "code",
   "execution_count": 42,
   "metadata": {
    "scrolled": true
   },
   "outputs": [
    {
     "data": {
      "text/plain": [
       "'C:\\\\Users\\\\mpilab\\\\desktop\\\\desktop\\\\programming'"
      ]
     },
     "execution_count": 42,
     "metadata": {},
     "output_type": "execute_result"
    }
   ],
   "source": [
    "pwd"
   ]
  },
  {
   "cell_type": "code",
   "execution_count": 58,
   "metadata": {},
   "outputs": [],
   "source": [
    "import shutil # delete the tree of structure of folder\n",
    "data_dir='2019'\n",
    "shutil.rmtree(data_dir)"
   ]
  },
  {
   "cell_type": "code",
   "execution_count": 59,
   "metadata": {},
   "outputs": [
    {
     "name": "stdout",
     "output_type": "stream",
     "text": [
      " Volume in drive C has no label.\n",
      " Volume Serial Number is 5E67-A6D6\n",
      "\n",
      " Directory of C:\\Users\\mpilab\\desktop\\desktop\\programming\n",
      "\n",
      "11-07-2019  15:28    <DIR>          .\n",
      "11-07-2019  15:28    <DIR>          ..\n",
      "05-07-2019  14:52    <DIR>          git\n",
      "11-07-2019  14:48    <DIR>          TestFolder\n",
      "               0 File(s)              0 bytes\n",
      "               4 Dir(s)  121,929,572,352 bytes free\n"
     ]
    }
   ],
   "source": [
    "ls"
   ]
  },
  {
   "cell_type": "code",
   "execution_count": null,
   "metadata": {},
   "outputs": [],
   "source": []
  }
 ],
 "metadata": {
  "kernelspec": {
   "display_name": "Python 3",
   "language": "python",
   "name": "python3"
  },
  "language_info": {
   "codemirror_mode": {
    "name": "ipython",
    "version": 3
   },
   "file_extension": ".py",
   "mimetype": "text/x-python",
   "name": "python",
   "nbconvert_exporter": "python",
   "pygments_lexer": "ipython3",
   "version": "3.7.3"
  }
 },
 "nbformat": 4,
 "nbformat_minor": 2
}
