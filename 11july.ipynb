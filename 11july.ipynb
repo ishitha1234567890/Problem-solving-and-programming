{
 "cells": [
  {
   "cell_type": "markdown",
   "metadata": {},
   "source": [
    "## STANDARD LIBRAIES\n",
    "-FILE I/O\n",
    "-REGULAR  EXPRESSION\n",
    "-DATETIME\n",
    "-MATH(NUMERICAL AND MATHEMATICAL)"
   ]
  },
  {
   "cell_type": "code",
   "execution_count": null,
   "metadata": {},
   "outputs": [],
   "source": [
    "| WRITE,READ,ANALYSIS--DATA SCIENCES AND ANALYSIS"
   ]
  },
  {
   "cell_type": "markdown",
   "metadata": {},
   "source": [
    "### FILE HANDLING IN PYTHON\n",
    "FILE-DOCUMENT CONTAINING INFORMATION RESISDES ON PERMANENT STORAGE\n",
    "DIFFERENT TYPE OF FILES-TXT,DOC,PDF,CSVAND ETC...\n",
    "INPUT --KEYBOARD\n",
    "OUTPUT--FILE\n",
    "### MODES OF THE FILE I/O\n",
    "-'W'--THIS MODE IS USED TO FILE WRITING\n",
    "--IF THE FILES IS NOT PRESENT FIRST IT CREATES THE FILE AND WRITE SO NO DATA TO IT.\n",
    "--IF THE FILE IS ALREADY PREESNT THEN IT WILL REWRITE"
   ]
  },
  {
   "cell_type": "code",
   "execution_count": 5,
   "metadata": {},
   "outputs": [
    {
     "name": "stdout",
     "output_type": "stream",
     "text": [
      "file is created and data has written\n"
     ]
    }
   ],
   "source": [
    "# FUNCTION TO CREATE A FILE AND WRITE TO FILE\n",
    "def createfile(filename):\n",
    "    f=open(filename,'w')\n",
    "    for i in range(10):\n",
    "        f.write('this is %d line'%i)\n",
    "    print(\"file is created and data has written\")\n",
    "    return\n",
    "createfile('file1.txt')"
   ]
  },
  {
   "cell_type": "code",
   "execution_count": 6,
   "metadata": {},
   "outputs": [
    {
     "name": "stdout",
     "output_type": "stream",
     "text": [
      "file is created and data has written\n"
     ]
    }
   ],
   "source": [
    "def createfile(filename):\n",
    "    f=open(filename,'w')\n",
    "    f.write('testing...\\n')\n",
    "    print(\"file is created and data has written\")\n",
    "    return\n",
    "createfile('file1.txt')"
   ]
  },
  {
   "cell_type": "code",
   "execution_count": 7,
   "metadata": {},
   "outputs": [
    {
     "name": "stdout",
     "output_type": "stream",
     "text": [
      "file is created and data has written\n"
     ]
    }
   ],
   "source": [
    "def createfile(filename):\n",
    "    f=open(filename,'a')\n",
    "    for i in range(10):\n",
    "        f.write('this is %d line\\n'%i)\n",
    "    print(\"file is created and data has written\")\n",
    "    return\n",
    "createfile('file2.txt')"
   ]
  },
  {
   "cell_type": "code",
   "execution_count": 8,
   "metadata": {},
   "outputs": [
    {
     "name": "stdout",
     "output_type": "stream",
     "text": [
      "file created and successfully data written\n"
     ]
    }
   ],
   "source": [
    "def appenddata(filename):\n",
    "    f=open(filename,'a')\n",
    "    f.write(\"new line 1\\n\")\n",
    "    f.write(\"new line 2\\n\")\n",
    "    print(\"file created and successfully data written\")\n",
    "    return\n",
    "appenddata('file2.txt')"
   ]
  },
  {
   "cell_type": "code",
   "execution_count": 9,
   "metadata": {},
   "outputs": [
    {
     "name": "stdout",
     "output_type": "stream",
     "text": [
      "line 1\n",
      "line 2\n",
      "line 3\n",
      "this is 0 line\n",
      "this is 1 line\n",
      "this is 2 line\n",
      "this is 3 line\n",
      "this is 4 line\n",
      "this is 5 line\n",
      "this is 6 line\n",
      "this is 7 line\n",
      "this is 8 line\n",
      "this is 9 line\n",
      "new line 1\n",
      "new line 2\n",
      "\n"
     ]
    }
   ],
   "source": [
    "# function to read of the file\n",
    "def readfiledata(filename):\n",
    "    f=open(filename,'r')\n",
    "    if f.mode=='r':\n",
    "        x=f.read()\n",
    "        print(x)\n",
    "    f.close()\n",
    "    return \n",
    "readfiledata('file2.txt')\n",
    "    "
   ]
  },
  {
   "cell_type": "code",
   "execution_count": 12,
   "metadata": {},
   "outputs": [
    {
     "name": "stdout",
     "output_type": "stream",
     "text": [
      "enter filenamelol\n"
     ]
    }
   ],
   "source": [
    "# function to read the file\n",
    "def fileoperations(filename,mode):\n",
    "    with open(filename,mode) as f:\n",
    "        if f.mode=='r':\n",
    "            data=f.read()\n",
    "            print(data)\n",
    "        elif f.mode=='a':\n",
    "            f.write('data to the file')\n",
    "            print('the data successfully written')\n",
    "    f.close()\n",
    "    return\n",
    "filename=input(\"enter filename\")"
   ]
  },
  {
   "cell_type": "code",
   "execution_count": 17,
   "metadata": {},
   "outputs": [
    {
     "name": "stdout",
     "output_type": "stream",
     "text": [
      "Enter the file name:file2.txt\n",
      "Enter the word :this\n"
     ]
    },
    {
     "data": {
      "text/plain": [
       "10"
      ]
     },
     "execution_count": 17,
     "metadata": {},
     "output_type": "execute_result"
    }
   ],
   "source": [
    "# Data Analysis \n",
    "# word Count Program\n",
    "def wordcount(filename,word):\n",
    "   with open(filename,'r')as f:\n",
    "       if f.mode =='r':\n",
    "           x=f.read()\n",
    "           li= x.split()#splits the string return\n",
    "       cnt = li.count(word)\n",
    "       return cnt\n",
    "filename = input('Enter the file name:')\n",
    "word = input('Enter the word :') #which word count you need\n",
    "wordcount(filename,word)"
   ]
  },
  {
   "cell_type": "code",
   "execution_count": null,
   "metadata": {},
   "outputs": [],
   "source": [
    "#CHARACTER COUNT FROM THE GIVEN FILE\n",
    "def charcount(filename):\n",
    "    with open(filename,'r') as f:\n",
    "        "
   ]
  },
  {
   "cell_type": "code",
   "execution_count": 19,
   "metadata": {},
   "outputs": [
    {
     "name": "stdout",
     "output_type": "stream",
     "text": [
      "enter the filenamefile2.txt\n"
     ]
    },
    {
     "data": {
      "text/plain": [
       "16"
      ]
     },
     "execution_count": 19,
     "metadata": {},
     "output_type": "execute_result"
    }
   ],
   "source": [
    "#function to find no of lines in given input\n",
    "def countoflines(filename):\n",
    "    with open(filename,'r')as f:\n",
    "        if f.mode=='r':\n",
    "            x=f.read()\n",
    "            li=x.split(\"\\n\")\n",
    "    return len(li)\n",
    "filename=input('enter the filename')\n",
    "countoflines(filename)\n"
   ]
  },
  {
   "cell_type": "code",
   "execution_count": 20,
   "metadata": {},
   "outputs": [
    {
     "name": "stdout",
     "output_type": "stream",
     "text": [
      "enter the filename: file2.txt\n"
     ]
    },
    {
     "data": {
      "text/plain": [
       "'upper case ={0},lower case={1}'"
      ]
     },
     "execution_count": 20,
     "metadata": {},
     "output_type": "execute_result"
    }
   ],
   "source": [
    "# function to print \n",
    "def casecount(filename):\n",
    "    cntupper=0\n",
    "    cntlower=0\n",
    "    with open(filename,'r') as f:\n",
    "        if f.mode=='r':\n",
    "            x=f.read()\n",
    "            li=list(x)\n",
    "    for i in li:\n",
    "        if i.isupper():\n",
    "                    cntupper+=1\n",
    "        elif i.islower():\n",
    "                        cntlower+=1\n",
    "    output='upper case ={0},lower case={1}'\n",
    "    return output\n",
    "filename=input('enter the filename: ')\n",
    "casecount(filename)"
   ]
  },
  {
   "cell_type": "code",
   "execution_count": 21,
   "metadata": {},
   "outputs": [
    {
     "name": "stdout",
     "output_type": "stream",
     "text": [
      " Volume in drive C has no label.\n",
      " Volume Serial Number is 2E65-B65E\n",
      "\n",
      " Directory of C:\\Users\\mpilab_2\n",
      "\n",
      "11-07-2019  12:23    <DIR>          .\n",
      "11-07-2019  12:23    <DIR>          ..\n",
      "12-06-2019  16:09    <DIR>          .anaconda\n",
      "05-07-2019  10:40             4,503 .bash_history\n",
      "11-07-2019  12:27    <DIR>          .conda\n",
      "11-07-2019  08:56                43 .condarc\n",
      "11-07-2019  09:03    <DIR>          .ipynb_checkpoints\n",
      "12-06-2019  16:25    <DIR>          .ipython\n",
      "13-06-2019  09:01    <DIR>          .jupyter\n",
      "21-06-2019  14:33    <DIR>          .matplotlib\n",
      "24-09-2018  10:44    <DIR>          .mozilla\n",
      "21-06-2019  14:58    <DIR>          .spyder-py3\n",
      "24-09-2018  10:44    <DIR>          .vivado_hls\n",
      "26-11-2018  14:42                68 1.asm\n",
      "10-07-2019  16:37            19,536 10 july.ipynb\n",
      "11-07-2019  12:23             8,303 11july.ipynb\n",
      "03-12-2018  14:11               103 2.asm\n",
      "08-07-2019  16:04            24,250 5 JULY 2019.ipynb\n",
      "09-07-2019  12:56             7,623 9 july 2019.ipynb\n",
      "21-06-2019  15:15    <DIR>          Anaconda3\n",
      "15-06-2018  14:33    <DIR>          Contacts\n",
      "05-07-2019  09:20                38 data.text\n",
      "10-07-2019  15:23    <DIR>          Desktop\n",
      "10-07-2019  10:39    <DIR>          Documents\n",
      "10-07-2019  15:16    <DIR>          Downloads\n",
      "15-06-2018  14:33    <DIR>          Favorites\n",
      "16-11-2018  11:03                63 file.asm\n",
      "11-07-2019  09:51                12 file1.txt\n",
      "11-07-2019  10:03               205 file2.txt\n",
      "19-06-2019  14:48                 0 file3,txt\n",
      "19-06-2019  14:49                22 file3.txt\n",
      "19-06-2019  14:39                 0 filele.txt\n",
      "19-06-2019  12:45    <DIR>          GITAM-june-19\n",
      "19-06-2019  12:46    <DIR>          Gitam-june-2019\n",
      "05-07-2019  09:39    <DIR>          gitam-python\n",
      "19-06-2019  15:08                38 killwoprrier.txt\n",
      "15-06-2018  14:33    <DIR>          Links\n",
      "15-06-2018  14:33    <DIR>          Music\n",
      "25-01-2019  10:55               226 p6.asm\n",
      "11-07-2018  10:57    <DIR>          Pictures\n",
      "15-06-2018  14:33    <DIR>          Saved Games\n",
      "17-12-2018  11:45    <DIR>          Searches\n",
      "19-06-2019  15:12                 8 sravan.txt\n",
      "21-06-2019  15:18    <DIR>          Untitled Folder\n",
      "12-06-2019  16:25               732 Untitled.ipynb\n",
      "13-06-2019  09:58               732 Untitled1.ipynb\n",
      "21-06-2019  15:18                72 Untitled2.ipynb\n",
      "26-06-2019  14:24             2,915 Untitled3.ipynb\n",
      "26-06-2019  14:23                72 Untitled4.ipynb\n",
      "27-06-2019  09:06                72 Untitled5.ipynb\n",
      "27-06-2019  15:13               555 Untitled6.ipynb\n",
      "06-07-2019  10:23             1,205 Untitled7.ipynb\n",
      "15-06-2018  14:33    <DIR>          Videos\n",
      "09-07-2018  15:54    <DIR>          Xilinx\n",
      "              26 File(s)         71,396 bytes\n",
      "              28 Dir(s)  39,416,721,408 bytes free\n"
     ]
    }
   ],
   "source": [
    "ls"
   ]
  },
  {
   "cell_type": "markdown",
   "metadata": {},
   "source": [
    "# Math, random, os . \n",
    "# os package it contains certain methods which works with os"
   ]
  },
  {
   "cell_type": "code",
   "execution_count": 27,
   "metadata": {},
   "outputs": [
    {
     "name": "stdout",
     "output_type": "stream",
     "text": [
      " Volume in drive C has no label.\n",
      " Volume Serial Number is 2E65-B65E\n",
      "\n",
      " Directory of C:\\Users\\mpilab_2\n",
      "\n",
      "11-07-2019  15:47    <DIR>          .\n",
      "11-07-2019  15:47    <DIR>          ..\n",
      "12-06-2019  16:09    <DIR>          .anaconda\n",
      "05-07-2019  10:40             4,503 .bash_history\n",
      "11-07-2019  15:00    <DIR>          .conda\n",
      "11-07-2019  08:56                43 .condarc\n",
      "11-07-2019  09:03    <DIR>          .ipynb_checkpoints\n",
      "12-06-2019  16:25    <DIR>          .ipython\n",
      "13-06-2019  09:01    <DIR>          .jupyter\n",
      "21-06-2019  14:33    <DIR>          .matplotlib\n",
      "24-09-2018  10:44    <DIR>          .mozilla\n",
      "21-06-2019  14:58    <DIR>          .spyder-py3\n",
      "24-09-2018  10:44    <DIR>          .vivado_hls\n",
      "26-11-2018  14:42                68 1.asm\n",
      "11-07-2019  14:06            24,233 10 july.ipynb\n",
      "11-07-2019  15:47            17,396 11july.ipynb\n",
      "03-12-2018  14:11               103 2.asm\n",
      "08-07-2019  16:04            24,250 5 JULY 2019.ipynb\n",
      "09-07-2019  12:56             7,623 9 july 2019.ipynb\n",
      "21-06-2019  15:15    <DIR>          Anaconda3\n",
      "15-06-2018  14:33    <DIR>          Contacts\n",
      "05-07-2019  09:20                38 data.text\n",
      "10-07-2019  15:23    <DIR>          Desktop\n",
      "10-07-2019  10:39    <DIR>          Documents\n",
      "11-07-2019  15:36    <DIR>          Downloads\n",
      "15-06-2018  14:33    <DIR>          Favorites\n",
      "16-11-2018  11:03                63 file.asm\n",
      "11-07-2019  09:51                12 file1.txt\n",
      "11-07-2019  10:03               205 file2.txt\n",
      "19-06-2019  14:48                 0 file3,txt\n",
      "19-06-2019  14:49                22 file3.txt\n",
      "19-06-2019  14:39                 0 filele.txt\n",
      "19-06-2019  12:45    <DIR>          GITAM-june-19\n",
      "19-06-2019  12:46    <DIR>          Gitam-june-2019\n",
      "05-07-2019  09:39    <DIR>          gitam-python\n",
      "19-06-2019  15:08                38 killwoprrier.txt\n",
      "15-06-2018  14:33    <DIR>          Links\n",
      "15-06-2018  14:33    <DIR>          Music\n",
      "25-01-2019  10:55               226 p6.asm\n",
      "11-07-2018  10:57    <DIR>          Pictures\n",
      "15-06-2018  14:33    <DIR>          Saved Games\n",
      "17-12-2018  11:45    <DIR>          Searches\n",
      "19-06-2019  15:12                 8 sravan.txt\n",
      "21-06-2019  15:18    <DIR>          Untitled Folder\n",
      "12-06-2019  16:25               732 Untitled.ipynb\n",
      "13-06-2019  09:58               732 Untitled1.ipynb\n",
      "21-06-2019  15:18                72 Untitled2.ipynb\n",
      "26-06-2019  14:24             2,915 Untitled3.ipynb\n",
      "26-06-2019  14:23                72 Untitled4.ipynb\n",
      "27-06-2019  09:06                72 Untitled5.ipynb\n",
      "27-06-2019  15:13               555 Untitled6.ipynb\n",
      "06-07-2019  10:23             1,205 Untitled7.ipynb\n",
      "15-06-2018  14:33    <DIR>          Videos\n",
      "09-07-2018  15:54    <DIR>          Xilinx\n",
      "              26 File(s)         85,186 bytes\n",
      "              28 Dir(s)  39,400,632,320 bytes free\n"
     ]
    }
   ],
   "source": [
    "ls"
   ]
  },
  {
   "cell_type": "code",
   "execution_count": 28,
   "metadata": {},
   "outputs": [
    {
     "name": "stdout",
     "output_type": "stream",
     "text": [
      "C:\\Users\\mpilab_2\\desktop\n"
     ]
    }
   ],
   "source": [
    "cd desktop"
   ]
  },
  {
   "cell_type": "code",
   "execution_count": 29,
   "metadata": {},
   "outputs": [
    {
     "name": "stdout",
     "output_type": "stream",
     "text": [
      "[WinError 3] The system cannot find the path specified: 'desktop\\\\programming'\n",
      "C:\\Users\\mpilab_2\\desktop\n"
     ]
    }
   ],
   "source": [
    "cd desktop\\programming"
   ]
  },
  {
   "cell_type": "code",
   "execution_count": null,
   "metadata": {},
   "outputs": [],
   "source": [
    "from pathlib import Path\n",
    "li=Path('git/')\n",
    "for i in li.iterdir():\n",
    "    print(i.name)"
   ]
  },
  {
   "cell_type": "code",
   "execution_count": 30,
   "metadata": {},
   "outputs": [
    {
     "name": "stdout",
     "output_type": "stream",
     "text": [
      " Volume in drive C has no label.\n",
      " Volume Serial Number is 2E65-B65E\n",
      "\n",
      " Directory of C:\\Users\\mpilab_2\\desktop\n",
      "\n",
      "10-07-2019  15:23    <DIR>          .\n",
      "10-07-2019  15:23    <DIR>          ..\n",
      "10-07-2019  15:23    <DIR>          .ipynb_checkpoints\n",
      "09-07-2019  16:23            14,759 08-July-2019.ipynb\n",
      "27-02-2019  15:55            49,740 49128 (2).docx\n",
      "10-07-2019  15:23             4,295 ASSIGNMENT QUESTIONS Day 9.ipynb\n",
      "01-07-2019  09:43                14 day1.txt\n",
      "10-07-2019  15:16    <DIR>          jupyter-day9-master\n",
      "17-12-2018  11:48            15,205 majorABS.docx\n",
      "22-06-2019  12:48             1,142 operators.txt\n",
      "04-07-2019  10:21    <DIR>          problemsolvingprogramming\n",
      "25-06-2019  11:33    <DIR>          Python -ankith\n",
      "21-06-2019  12:25               454 Questions.txt\n",
      "12-06-2019  15:43             2,575 RAPTOR.lnk\n",
      "26-02-2019  13:16           518,041 Report Lifi.docx\n",
      "14-08-2018  10:08               903 StarUML.lnk\n",
      "              10 File(s)        607,128 bytes\n",
      "               6 Dir(s)  39,400,632,320 bytes free\n"
     ]
    }
   ],
   "source": [
    "ls"
   ]
  },
  {
   "cell_type": "code",
   "execution_count": null,
   "metadata": {},
   "outputs": [],
   "source": [
    "import os \n",
    "dirPath = \"git/\"\n",
    "for i in os.listdir(dirPath): # All files and folders\n",
    "    if os.path.isfile(os.path.join(dirPath,i)):\n",
    "        print(i)"
   ]
  },
  {
   "cell_type": "code",
   "execution_count": null,
   "metadata": {},
   "outputs": [],
   "source": [
    "dirPath='git/'\n",
    "with os.scandir(dirPath)as f:\n",
    "    for i in f:\n",
    "        if i.is_file():\n",
    "            print(i.name)"
   ]
  },
  {
   "cell_type": "code",
   "execution_count": null,
   "metadata": {},
   "outputs": [],
   "source": [
    "dirPath='git/'\n",
    "for i in os.listdir(dirPath):\n",
    "    if os.path.isdir(os.path.join(dirPath,i)):\n",
    "        print(i)"
   ]
  },
  {
   "cell_type": "code",
   "execution_count": null,
   "metadata": {},
   "outputs": [],
   "source": [
    "from pathlib import Path\n",
    "dirPath=Path('git/')\n",
    "for i in dirPath.iterdir():\n",
    "    if i.is_dir():\n",
    "        print(i.name)"
   ]
  },
  {
   "cell_type": "code",
   "execution_count": null,
   "metadata": {},
   "outputs": [],
   "source": [
    "import os\n",
    "os.mkdir('single directory')"
   ]
  },
  {
   "cell_type": "code",
   "execution_count": null,
   "metadata": {},
   "outputs": [],
   "source": [
    "import pathlib\n",
    "p=pathlib.Path('TestFolder')\n",
    "p.mkdir()"
   ]
  },
  {
   "cell_type": "code",
   "execution_count": null,
   "metadata": {},
   "outputs": [],
   "source": [
    "ls"
   ]
  },
  {
   "cell_type": "code",
   "execution_count": null,
   "metadata": {},
   "outputs": [],
   "source": [
    "import os\n",
    "os.makedirs('2019/july/11/Thursday')"
   ]
  },
  {
   "cell_type": "code",
   "execution_count": null,
   "metadata": {},
   "outputs": [],
   "source": [
    "ls"
   ]
  },
  {
   "cell_type": "code",
   "execution_count": null,
   "metadata": {},
   "outputs": [],
   "source": [
    "pwd"
   ]
  },
  {
   "cell_type": "code",
   "execution_count": null,
   "metadata": {},
   "outputs": [],
   "source": [
    "import os\n",
    "dirPath='git/'\n",
    "for f_name in os.listdir(dirPath):\n",
    "    if f_name.endswith('ipynb'):\n",
    "        print(f_name)"
   ]
  },
  {
   "cell_type": "code",
   "execution_count": null,
   "metadata": {},
   "outputs": [],
   "source": [
    "import os\n",
    "dirPath='git/'\n",
    "for f_name in os.listdir(dirPath):\n",
    "    if f_name.startswith('ipynb'):\n",
    "        print(f_name)"
   ]
  },
  {
   "cell_type": "code",
   "execution_count": null,
   "metadata": {},
   "outputs": [],
   "source": [
    "ls"
   ]
  },
  {
   "cell_type": "code",
   "execution_count": null,
   "metadata": {},
   "outputs": [],
   "source": [
    "import os\n",
    "data_file=\"single directory\"# give the entire path\n",
    "os.rmdir(data_file)"
   ]
  },
  {
   "cell_type": "code",
   "execution_count": null,
   "metadata": {},
   "outputs": [],
   "source": [
    "pwd"
   ]
  },
  {
   "cell_type": "code",
   "execution_count": null,
   "metadata": {},
   "outputs": [],
   "source": [
    "import shutil # delete the tree of structure of folder\n",
    "data_dir='2019'\n",
    "shutil.rmtree(data_dir)"
   ]
  },
  {
   "cell_type": "code",
   "execution_count": null,
   "metadata": {},
   "outputs": [],
   "source": [
    "ls"
   ]
  },
  {
   "cell_type": "code",
   "execution_count": null,
   "metadata": {},
   "outputs": [],
   "source": []
  }
 ],
 "metadata": {
  "kernelspec": {
   "display_name": "Python 3",
   "language": "python",
   "name": "python3"
  },
  "language_info": {
   "codemirror_mode": {
    "name": "ipython",
    "version": 3
   },
   "file_extension": ".py",
   "mimetype": "text/x-python",
   "name": "python",
   "nbconvert_exporter": "python",
   "pygments_lexer": "ipython3",
   "version": "3.7.3"
  }
 },
 "nbformat": 4,
 "nbformat_minor": 2
}
